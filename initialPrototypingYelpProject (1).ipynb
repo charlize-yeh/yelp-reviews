{
  "nbformat": 4,
  "nbformat_minor": 0,
  "metadata": {
    "colab": {
      "provenance": []
    },
    "kernelspec": {
      "name": "python3",
      "display_name": "Python 3"
    },
    "language_info": {
      "name": "python"
    }
  },
  "cells": [
    {
      "cell_type": "code",
      "source": [
        "import numpy as np\n",
        "from datascience import *\n",
        "import random\n",
        "\n",
        "# These lines do some fancy plotting magic\n",
        "import matplotlib\n",
        "%matplotlib inline\n",
        "import matplotlib.pyplot as plt\n",
        "plt.style.use('fivethirtyeight')\n",
        "import warnings\n",
        "warnings.simplefilter('ignore')\n",
        "from datetime import datetime"
      ],
      "metadata": {
        "id": "HvP-FJjNmQ6e"
      },
      "execution_count": null,
      "outputs": []
    },
    {
      "cell_type": "code",
      "source": [
        "possible_scores = make_array(1,2,3,4,5)\n",
        "scores = make_array()\n",
        "for i in np.arange(500):  \n",
        "  scores = np.append(scores, np.random.choice(possible_scores))\n",
        "\n",
        "possible_quantities = make_array()\n",
        "for j in np.arange(500):\n",
        "  possible_quantities = np.append(possible_quantities, j)\n",
        "\n",
        "\n",
        "quantities = make_array()\n",
        "for k in np.arange(500):\n",
        "  quantities = np.append(quantities, np.random.choice(possible_quantities))\n",
        "  \n",
        "reviews = Table().with_columns(\"Review\", scores, \"Number of Reviews\", quantities)"
      ],
      "metadata": {
        "id": "RNQe0VokmRWX"
      },
      "execution_count": null,
      "outputs": []
    },
    {
      "cell_type": "code",
      "source": [
        "reviews"
      ],
      "metadata": {
        "id": "Js0spgJtnNYW",
        "colab": {
          "base_uri": "https://localhost:8080/",
          "height": 392
        },
        "outputId": "d8063081-213f-41d4-c33a-286864e10b52"
      },
      "execution_count": null,
      "outputs": [
        {
          "output_type": "execute_result",
          "data": {
            "text/plain": [
              "Review | Number of Reviews\n",
              "2      | 150\n",
              "1      | 346\n",
              "4      | 187\n",
              "1      | 75\n",
              "1      | 89\n",
              "5      | 94\n",
              "1      | 427\n",
              "4      | 287\n",
              "2      | 54\n",
              "5      | 99\n",
              "... (490 rows omitted)"
            ],
            "text/html": [
              "<table border=\"1\" class=\"dataframe\">\n",
              "    <thead>\n",
              "        <tr>\n",
              "            <th>Review</th> <th>Number of Reviews</th>\n",
              "        </tr>\n",
              "    </thead>\n",
              "    <tbody>\n",
              "        <tr>\n",
              "            <td>2     </td> <td>150              </td>\n",
              "        </tr>\n",
              "        <tr>\n",
              "            <td>1     </td> <td>346              </td>\n",
              "        </tr>\n",
              "        <tr>\n",
              "            <td>4     </td> <td>187              </td>\n",
              "        </tr>\n",
              "        <tr>\n",
              "            <td>1     </td> <td>75               </td>\n",
              "        </tr>\n",
              "        <tr>\n",
              "            <td>1     </td> <td>89               </td>\n",
              "        </tr>\n",
              "        <tr>\n",
              "            <td>5     </td> <td>94               </td>\n",
              "        </tr>\n",
              "        <tr>\n",
              "            <td>1     </td> <td>427              </td>\n",
              "        </tr>\n",
              "        <tr>\n",
              "            <td>4     </td> <td>287              </td>\n",
              "        </tr>\n",
              "        <tr>\n",
              "            <td>2     </td> <td>54               </td>\n",
              "        </tr>\n",
              "        <tr>\n",
              "            <td>5     </td> <td>99               </td>\n",
              "        </tr>\n",
              "    </tbody>\n",
              "</table>\n",
              "<p>... (490 rows omitted)</p>"
            ]
          },
          "metadata": {},
          "execution_count": 3
        }
      ]
    },
    {
      "cell_type": "code",
      "source": [
        "mean_score = np.mean(reviews.column(\"Review\"))\n",
        "mean_score"
      ],
      "metadata": {
        "colab": {
          "base_uri": "https://localhost:8080/"
        },
        "id": "oJZgddgcotdM",
        "outputId": "47b690da-f821-4689-c497-da66944faa33"
      },
      "execution_count": null,
      "outputs": [
        {
          "output_type": "execute_result",
          "data": {
            "text/plain": [
              "2.9300000000000002"
            ]
          },
          "metadata": {},
          "execution_count": 4
        }
      ]
    },
    {
      "cell_type": "code",
      "source": [
        "total_num_reviews_amongst_reviewers = sum(reviews.column(\"Number of Reviews\"))\n",
        "total_num_reviews_amongst_reviewers"
      ],
      "metadata": {
        "colab": {
          "base_uri": "https://localhost:8080/"
        },
        "id": "ALlnHc6EpCNa",
        "outputId": "75bf03c8-042d-41e7-8b7d-5c1f02e4b4ef"
      },
      "execution_count": null,
      "outputs": [
        {
          "output_type": "execute_result",
          "data": {
            "text/plain": [
              "123637.0"
            ]
          },
          "metadata": {},
          "execution_count": 5
        }
      ]
    },
    {
      "cell_type": "code",
      "source": [
        "proportion_total_reviews = reviews.column(\"Number of Reviews\") / total_num_reviews_amongst_reviewers\n",
        "reviews = reviews.with_column(\"Proportion of Reviews\", proportion_total_reviews)\n",
        "reviews"
      ],
      "metadata": {
        "colab": {
          "base_uri": "https://localhost:8080/",
          "height": 392
        },
        "id": "uduGVBOLpWwX",
        "outputId": "cae9ae65-6964-4d25-f639-9415fff76dd3"
      },
      "execution_count": null,
      "outputs": [
        {
          "output_type": "execute_result",
          "data": {
            "text/plain": [
              "Review | Number of Reviews | Proportion of Reviews\n",
              "2      | 150               | 0.00121323\n",
              "1      | 346               | 0.00279852\n",
              "4      | 187               | 0.00151249\n",
              "1      | 75                | 0.000606615\n",
              "1      | 89                | 0.000719849\n",
              "5      | 94                | 0.00076029\n",
              "1      | 427               | 0.00345366\n",
              "4      | 287               | 0.00232131\n",
              "2      | 54                | 0.000436762\n",
              "5      | 99                | 0.000800731\n",
              "... (490 rows omitted)"
            ],
            "text/html": [
              "<table border=\"1\" class=\"dataframe\">\n",
              "    <thead>\n",
              "        <tr>\n",
              "            <th>Review</th> <th>Number of Reviews</th> <th>Proportion of Reviews</th>\n",
              "        </tr>\n",
              "    </thead>\n",
              "    <tbody>\n",
              "        <tr>\n",
              "            <td>2     </td> <td>150              </td> <td>0.00121323           </td>\n",
              "        </tr>\n",
              "        <tr>\n",
              "            <td>1     </td> <td>346              </td> <td>0.00279852           </td>\n",
              "        </tr>\n",
              "        <tr>\n",
              "            <td>4     </td> <td>187              </td> <td>0.00151249           </td>\n",
              "        </tr>\n",
              "        <tr>\n",
              "            <td>1     </td> <td>75               </td> <td>0.000606615          </td>\n",
              "        </tr>\n",
              "        <tr>\n",
              "            <td>1     </td> <td>89               </td> <td>0.000719849          </td>\n",
              "        </tr>\n",
              "        <tr>\n",
              "            <td>5     </td> <td>94               </td> <td>0.00076029           </td>\n",
              "        </tr>\n",
              "        <tr>\n",
              "            <td>1     </td> <td>427              </td> <td>0.00345366           </td>\n",
              "        </tr>\n",
              "        <tr>\n",
              "            <td>4     </td> <td>287              </td> <td>0.00232131           </td>\n",
              "        </tr>\n",
              "        <tr>\n",
              "            <td>2     </td> <td>54               </td> <td>0.000436762          </td>\n",
              "        </tr>\n",
              "        <tr>\n",
              "            <td>5     </td> <td>99               </td> <td>0.000800731          </td>\n",
              "        </tr>\n",
              "    </tbody>\n",
              "</table>\n",
              "<p>... (490 rows omitted)</p>"
            ]
          },
          "metadata": {},
          "execution_count": 6
        }
      ]
    },
    {
      "cell_type": "code",
      "source": [
        "proportional_review = reviews.column(\"Proportion of Reviews\") * reviews.column(\"Review\")\n",
        "reviews = reviews.with_column(\"Proportional Review\", proportional_review)\n",
        "reviews"
      ],
      "metadata": {
        "colab": {
          "base_uri": "https://localhost:8080/",
          "height": 392
        },
        "id": "VpnTeeJrps27",
        "outputId": "4df313fe-290b-4839-b73c-565e3b862a90"
      },
      "execution_count": null,
      "outputs": [
        {
          "output_type": "execute_result",
          "data": {
            "text/plain": [
              "Review | Number of Reviews | Proportion of Reviews | Proportional Review\n",
              "2      | 150               | 0.00121323            | 0.00242646\n",
              "1      | 346               | 0.00279852            | 0.00279852\n",
              "4      | 187               | 0.00151249            | 0.00604997\n",
              "1      | 75                | 0.000606615           | 0.000606615\n",
              "1      | 89                | 0.000719849           | 0.000719849\n",
              "5      | 94                | 0.00076029            | 0.00380145\n",
              "1      | 427               | 0.00345366            | 0.00345366\n",
              "4      | 287               | 0.00232131            | 0.00928525\n",
              "2      | 54                | 0.000436762           | 0.000873525\n",
              "5      | 99                | 0.000800731           | 0.00400366\n",
              "... (490 rows omitted)"
            ],
            "text/html": [
              "<table border=\"1\" class=\"dataframe\">\n",
              "    <thead>\n",
              "        <tr>\n",
              "            <th>Review</th> <th>Number of Reviews</th> <th>Proportion of Reviews</th> <th>Proportional Review</th>\n",
              "        </tr>\n",
              "    </thead>\n",
              "    <tbody>\n",
              "        <tr>\n",
              "            <td>2     </td> <td>150              </td> <td>0.00121323           </td> <td>0.00242646         </td>\n",
              "        </tr>\n",
              "        <tr>\n",
              "            <td>1     </td> <td>346              </td> <td>0.00279852           </td> <td>0.00279852         </td>\n",
              "        </tr>\n",
              "        <tr>\n",
              "            <td>4     </td> <td>187              </td> <td>0.00151249           </td> <td>0.00604997         </td>\n",
              "        </tr>\n",
              "        <tr>\n",
              "            <td>1     </td> <td>75               </td> <td>0.000606615          </td> <td>0.000606615        </td>\n",
              "        </tr>\n",
              "        <tr>\n",
              "            <td>1     </td> <td>89               </td> <td>0.000719849          </td> <td>0.000719849        </td>\n",
              "        </tr>\n",
              "        <tr>\n",
              "            <td>5     </td> <td>94               </td> <td>0.00076029           </td> <td>0.00380145         </td>\n",
              "        </tr>\n",
              "        <tr>\n",
              "            <td>1     </td> <td>427              </td> <td>0.00345366           </td> <td>0.00345366         </td>\n",
              "        </tr>\n",
              "        <tr>\n",
              "            <td>4     </td> <td>287              </td> <td>0.00232131           </td> <td>0.00928525         </td>\n",
              "        </tr>\n",
              "        <tr>\n",
              "            <td>2     </td> <td>54               </td> <td>0.000436762          </td> <td>0.000873525        </td>\n",
              "        </tr>\n",
              "        <tr>\n",
              "            <td>5     </td> <td>99               </td> <td>0.000800731          </td> <td>0.00400366         </td>\n",
              "        </tr>\n",
              "    </tbody>\n",
              "</table>\n",
              "<p>... (490 rows omitted)</p>"
            ]
          },
          "metadata": {},
          "execution_count": 7
        }
      ]
    },
    {
      "cell_type": "code",
      "source": [
        "weighted_review = sum(reviews.column(\"Proportional Review\"))\n",
        "weighted_review"
      ],
      "metadata": {
        "colab": {
          "base_uri": "https://localhost:8080/"
        },
        "id": "tHrWrh9ZqWwE",
        "outputId": "10ee8c2c-b52d-40f1-d107-2c2091df4654"
      },
      "execution_count": null,
      "outputs": [
        {
          "output_type": "execute_result",
          "data": {
            "text/plain": [
              "2.9496590826370785"
            ]
          },
          "metadata": {},
          "execution_count": 8
        }
      ]
    },
    {
      "cell_type": "code",
      "source": [
        "num_of_reviews = reviews.column(\"Number of Reviews\")\n",
        "def find_percentile(val):\n",
        "  return np.sum(val > num_of_reviews) / len(num_of_reviews)\n",
        "\n",
        "number_of_review_percentiles = reviews.apply(find_percentile, \"Number of Reviews\")\n",
        "reviews = reviews.with_column(\"num of review percentile\",number_of_review_percentiles)\n",
        "reviews\n"
      ],
      "metadata": {
        "colab": {
          "base_uri": "https://localhost:8080/",
          "height": 392
        },
        "id": "BfEbpJndqiq2",
        "outputId": "e14caa9c-ca9a-4993-d472-e592f24cc529"
      },
      "execution_count": null,
      "outputs": [
        {
          "output_type": "execute_result",
          "data": {
            "text/plain": [
              "Review | Number of Reviews | Proportion of Reviews | Proportional Review | num of review percentile\n",
              "2      | 150               | 0.00121323            | 0.00242646          | 0.326\n",
              "1      | 346               | 0.00279852            | 0.00279852          | 0.684\n",
              "4      | 187               | 0.00151249            | 0.00604997          | 0.386\n",
              "1      | 75                | 0.000606615           | 0.000606615         | 0.156\n",
              "1      | 89                | 0.000719849           | 0.000719849         | 0.192\n",
              "5      | 94                | 0.00076029            | 0.00380145          | 0.21\n",
              "1      | 427               | 0.00345366            | 0.00345366          | 0.862\n",
              "4      | 287               | 0.00232131            | 0.00928525          | 0.556\n",
              "2      | 54                | 0.000436762           | 0.000873525         | 0.11\n",
              "5      | 99                | 0.000800731           | 0.00400366          | 0.222\n",
              "... (490 rows omitted)"
            ],
            "text/html": [
              "<table border=\"1\" class=\"dataframe\">\n",
              "    <thead>\n",
              "        <tr>\n",
              "            <th>Review</th> <th>Number of Reviews</th> <th>Proportion of Reviews</th> <th>Proportional Review</th> <th>num of review percentile</th>\n",
              "        </tr>\n",
              "    </thead>\n",
              "    <tbody>\n",
              "        <tr>\n",
              "            <td>2     </td> <td>150              </td> <td>0.00121323           </td> <td>0.00242646         </td> <td>0.326                   </td>\n",
              "        </tr>\n",
              "        <tr>\n",
              "            <td>1     </td> <td>346              </td> <td>0.00279852           </td> <td>0.00279852         </td> <td>0.684                   </td>\n",
              "        </tr>\n",
              "        <tr>\n",
              "            <td>4     </td> <td>187              </td> <td>0.00151249           </td> <td>0.00604997         </td> <td>0.386                   </td>\n",
              "        </tr>\n",
              "        <tr>\n",
              "            <td>1     </td> <td>75               </td> <td>0.000606615          </td> <td>0.000606615        </td> <td>0.156                   </td>\n",
              "        </tr>\n",
              "        <tr>\n",
              "            <td>1     </td> <td>89               </td> <td>0.000719849          </td> <td>0.000719849        </td> <td>0.192                   </td>\n",
              "        </tr>\n",
              "        <tr>\n",
              "            <td>5     </td> <td>94               </td> <td>0.00076029           </td> <td>0.00380145         </td> <td>0.21                    </td>\n",
              "        </tr>\n",
              "        <tr>\n",
              "            <td>1     </td> <td>427              </td> <td>0.00345366           </td> <td>0.00345366         </td> <td>0.862                   </td>\n",
              "        </tr>\n",
              "        <tr>\n",
              "            <td>4     </td> <td>287              </td> <td>0.00232131           </td> <td>0.00928525         </td> <td>0.556                   </td>\n",
              "        </tr>\n",
              "        <tr>\n",
              "            <td>2     </td> <td>54               </td> <td>0.000436762          </td> <td>0.000873525        </td> <td>0.11                    </td>\n",
              "        </tr>\n",
              "        <tr>\n",
              "            <td>5     </td> <td>99               </td> <td>0.000800731          </td> <td>0.00400366         </td> <td>0.222                   </td>\n",
              "        </tr>\n",
              "    </tbody>\n",
              "</table>\n",
              "<p>... (490 rows omitted)</p>"
            ]
          },
          "metadata": {},
          "execution_count": 9
        }
      ]
    },
    {
      "cell_type": "code",
      "source": [
        "sum_of_percentiles = sum(reviews.column(\"num of review percentile\"))\n",
        "sum_of_percentiles"
      ],
      "metadata": {
        "colab": {
          "base_uri": "https://localhost:8080/"
        },
        "id": "Q11bO79EsL13",
        "outputId": "6c0f5af5-4db1-45e4-ea1d-1e9935ac6130"
      },
      "execution_count": null,
      "outputs": [
        {
          "output_type": "execute_result",
          "data": {
            "text/plain": [
              "249.02400000000009"
            ]
          },
          "metadata": {},
          "execution_count": 10
        }
      ]
    },
    {
      "cell_type": "code",
      "source": [
        "percentile_proportions = reviews.column(\"num of review percentile\") / sum_of_percentiles\n",
        "reviews = reviews.with_column(\"percentile_proportions\",percentile_proportions)\n",
        "reviews"
      ],
      "metadata": {
        "colab": {
          "base_uri": "https://localhost:8080/",
          "height": 392
        },
        "id": "TIB5eRlIslXP",
        "outputId": "dff28199-37f5-41ac-e0a6-dc0aed6dd2fb"
      },
      "execution_count": null,
      "outputs": [
        {
          "output_type": "execute_result",
          "data": {
            "text/plain": [
              "Review | Number of Reviews | Proportion of Reviews | Proportional Review | num of review percentile | percentile_proportions\n",
              "2      | 150               | 0.00121323            | 0.00242646          | 0.326                    | 0.00130911\n",
              "1      | 346               | 0.00279852            | 0.00279852          | 0.684                    | 0.00274672\n",
              "4      | 187               | 0.00151249            | 0.00604997          | 0.386                    | 0.00155005\n",
              "1      | 75                | 0.000606615           | 0.000606615         | 0.156                    | 0.000626446\n",
              "1      | 89                | 0.000719849           | 0.000719849         | 0.192                    | 0.00077101\n",
              "5      | 94                | 0.00076029            | 0.00380145          | 0.21                     | 0.000843292\n",
              "1      | 427               | 0.00345366            | 0.00345366          | 0.862                    | 0.00346151\n",
              "4      | 287               | 0.00232131            | 0.00928525          | 0.556                    | 0.00223272\n",
              "2      | 54                | 0.000436762           | 0.000873525         | 0.11                     | 0.000441724\n",
              "5      | 99                | 0.000800731           | 0.00400366          | 0.222                    | 0.00089148\n",
              "... (490 rows omitted)"
            ],
            "text/html": [
              "<table border=\"1\" class=\"dataframe\">\n",
              "    <thead>\n",
              "        <tr>\n",
              "            <th>Review</th> <th>Number of Reviews</th> <th>Proportion of Reviews</th> <th>Proportional Review</th> <th>num of review percentile</th> <th>percentile_proportions</th>\n",
              "        </tr>\n",
              "    </thead>\n",
              "    <tbody>\n",
              "        <tr>\n",
              "            <td>2     </td> <td>150              </td> <td>0.00121323           </td> <td>0.00242646         </td> <td>0.326                   </td> <td>0.00130911            </td>\n",
              "        </tr>\n",
              "        <tr>\n",
              "            <td>1     </td> <td>346              </td> <td>0.00279852           </td> <td>0.00279852         </td> <td>0.684                   </td> <td>0.00274672            </td>\n",
              "        </tr>\n",
              "        <tr>\n",
              "            <td>4     </td> <td>187              </td> <td>0.00151249           </td> <td>0.00604997         </td> <td>0.386                   </td> <td>0.00155005            </td>\n",
              "        </tr>\n",
              "        <tr>\n",
              "            <td>1     </td> <td>75               </td> <td>0.000606615          </td> <td>0.000606615        </td> <td>0.156                   </td> <td>0.000626446           </td>\n",
              "        </tr>\n",
              "        <tr>\n",
              "            <td>1     </td> <td>89               </td> <td>0.000719849          </td> <td>0.000719849        </td> <td>0.192                   </td> <td>0.00077101            </td>\n",
              "        </tr>\n",
              "        <tr>\n",
              "            <td>5     </td> <td>94               </td> <td>0.00076029           </td> <td>0.00380145         </td> <td>0.21                    </td> <td>0.000843292           </td>\n",
              "        </tr>\n",
              "        <tr>\n",
              "            <td>1     </td> <td>427              </td> <td>0.00345366           </td> <td>0.00345366         </td> <td>0.862                   </td> <td>0.00346151            </td>\n",
              "        </tr>\n",
              "        <tr>\n",
              "            <td>4     </td> <td>287              </td> <td>0.00232131           </td> <td>0.00928525         </td> <td>0.556                   </td> <td>0.00223272            </td>\n",
              "        </tr>\n",
              "        <tr>\n",
              "            <td>2     </td> <td>54               </td> <td>0.000436762          </td> <td>0.000873525        </td> <td>0.11                    </td> <td>0.000441724           </td>\n",
              "        </tr>\n",
              "        <tr>\n",
              "            <td>5     </td> <td>99               </td> <td>0.000800731          </td> <td>0.00400366         </td> <td>0.222                   </td> <td>0.00089148            </td>\n",
              "        </tr>\n",
              "    </tbody>\n",
              "</table>\n",
              "<p>... (490 rows omitted)</p>"
            ]
          },
          "metadata": {},
          "execution_count": 11
        }
      ]
    },
    {
      "cell_type": "code",
      "source": [
        "percentile_review = reviews.column(\"Review\") * reviews.column(\"percentile_proportions\")\n",
        "reviews = reviews.with_column(\"percentile review\",percentile_review)\n",
        "reviews"
      ],
      "metadata": {
        "colab": {
          "base_uri": "https://localhost:8080/",
          "height": 410
        },
        "id": "5Ug6UEgvszje",
        "outputId": "f113e721-eeca-4e81-a90c-242873d3e456"
      },
      "execution_count": null,
      "outputs": [
        {
          "output_type": "execute_result",
          "data": {
            "text/plain": [
              "Review | Number of Reviews | Proportion of Reviews | Proportional Review | num of review percentile | percentile_proportions | percentile review\n",
              "2      | 150               | 0.00121323            | 0.00242646          | 0.326                    | 0.00130911             | 0.00261822\n",
              "1      | 346               | 0.00279852            | 0.00279852          | 0.684                    | 0.00274672             | 0.00274672\n",
              "4      | 187               | 0.00151249            | 0.00604997          | 0.386                    | 0.00155005             | 0.00620021\n",
              "1      | 75                | 0.000606615           | 0.000606615         | 0.156                    | 0.000626446            | 0.000626446\n",
              "1      | 89                | 0.000719849           | 0.000719849         | 0.192                    | 0.00077101             | 0.00077101\n",
              "5      | 94                | 0.00076029            | 0.00380145          | 0.21                     | 0.000843292            | 0.00421646\n",
              "1      | 427               | 0.00345366            | 0.00345366          | 0.862                    | 0.00346151             | 0.00346151\n",
              "4      | 287               | 0.00232131            | 0.00928525          | 0.556                    | 0.00223272             | 0.00893087\n",
              "2      | 54                | 0.000436762           | 0.000873525         | 0.11                     | 0.000441724            | 0.000883449\n",
              "5      | 99                | 0.000800731           | 0.00400366          | 0.222                    | 0.00089148             | 0.0044574\n",
              "... (490 rows omitted)"
            ],
            "text/html": [
              "<table border=\"1\" class=\"dataframe\">\n",
              "    <thead>\n",
              "        <tr>\n",
              "            <th>Review</th> <th>Number of Reviews</th> <th>Proportion of Reviews</th> <th>Proportional Review</th> <th>num of review percentile</th> <th>percentile_proportions</th> <th>percentile review</th>\n",
              "        </tr>\n",
              "    </thead>\n",
              "    <tbody>\n",
              "        <tr>\n",
              "            <td>2     </td> <td>150              </td> <td>0.00121323           </td> <td>0.00242646         </td> <td>0.326                   </td> <td>0.00130911            </td> <td>0.00261822       </td>\n",
              "        </tr>\n",
              "        <tr>\n",
              "            <td>1     </td> <td>346              </td> <td>0.00279852           </td> <td>0.00279852         </td> <td>0.684                   </td> <td>0.00274672            </td> <td>0.00274672       </td>\n",
              "        </tr>\n",
              "        <tr>\n",
              "            <td>4     </td> <td>187              </td> <td>0.00151249           </td> <td>0.00604997         </td> <td>0.386                   </td> <td>0.00155005            </td> <td>0.00620021       </td>\n",
              "        </tr>\n",
              "        <tr>\n",
              "            <td>1     </td> <td>75               </td> <td>0.000606615          </td> <td>0.000606615        </td> <td>0.156                   </td> <td>0.000626446           </td> <td>0.000626446      </td>\n",
              "        </tr>\n",
              "        <tr>\n",
              "            <td>1     </td> <td>89               </td> <td>0.000719849          </td> <td>0.000719849        </td> <td>0.192                   </td> <td>0.00077101            </td> <td>0.00077101       </td>\n",
              "        </tr>\n",
              "        <tr>\n",
              "            <td>5     </td> <td>94               </td> <td>0.00076029           </td> <td>0.00380145         </td> <td>0.21                    </td> <td>0.000843292           </td> <td>0.00421646       </td>\n",
              "        </tr>\n",
              "        <tr>\n",
              "            <td>1     </td> <td>427              </td> <td>0.00345366           </td> <td>0.00345366         </td> <td>0.862                   </td> <td>0.00346151            </td> <td>0.00346151       </td>\n",
              "        </tr>\n",
              "        <tr>\n",
              "            <td>4     </td> <td>287              </td> <td>0.00232131           </td> <td>0.00928525         </td> <td>0.556                   </td> <td>0.00223272            </td> <td>0.00893087       </td>\n",
              "        </tr>\n",
              "        <tr>\n",
              "            <td>2     </td> <td>54               </td> <td>0.000436762          </td> <td>0.000873525        </td> <td>0.11                    </td> <td>0.000441724           </td> <td>0.000883449      </td>\n",
              "        </tr>\n",
              "        <tr>\n",
              "            <td>5     </td> <td>99               </td> <td>0.000800731          </td> <td>0.00400366         </td> <td>0.222                   </td> <td>0.00089148            </td> <td>0.0044574        </td>\n",
              "        </tr>\n",
              "    </tbody>\n",
              "</table>\n",
              "<p>... (490 rows omitted)</p>"
            ]
          },
          "metadata": {},
          "execution_count": 12
        }
      ]
    },
    {
      "cell_type": "code",
      "source": [
        "total_percentile_review = sum(reviews.column(\"percentile review\"))\n",
        "total_percentile_review"
      ],
      "metadata": {
        "colab": {
          "base_uri": "https://localhost:8080/"
        },
        "id": "ObiMmENQtLBe",
        "outputId": "48d340ac-1dd6-49b8-e4b9-56a390eda314"
      },
      "execution_count": null,
      "outputs": [
        {
          "output_type": "execute_result",
          "data": {
            "text/plain": [
              "2.9505348882035451"
            ]
          },
          "metadata": {},
          "execution_count": 13
        }
      ]
    },
    {
      "cell_type": "code",
      "source": [
        "importance = reviews.select(\"Number of Reviews\", \"Proportion of Reviews\").relabeled(\"Proportion of Reviews\", \"Importance\")\n",
        "dummy_value = make_array()\n",
        "for i in np.arange(500):\n",
        "  dummy_value = np.append(dummy_value, random.random())\n",
        "importance = importance.with_column(\"Dummy\", dummy_value)\n",
        "importance"
      ],
      "metadata": {
        "id": "_WdtcXGmth7O",
        "colab": {
          "base_uri": "https://localhost:8080/",
          "height": 392
        },
        "outputId": "94a46365-2c73-4aaa-cf72-0224be1daab0"
      },
      "execution_count": null,
      "outputs": [
        {
          "output_type": "execute_result",
          "data": {
            "text/plain": [
              "Number of Reviews | Importance  | Dummy\n",
              "150               | 0.00121323  | 0.826521\n",
              "346               | 0.00279852  | 0.895292\n",
              "187               | 0.00151249  | 0.744446\n",
              "75                | 0.000606615 | 0.792066\n",
              "89                | 0.000719849 | 0.634568\n",
              "94                | 0.00076029  | 0.219608\n",
              "427               | 0.00345366  | 0.23085\n",
              "287               | 0.00232131  | 0.300271\n",
              "54                | 0.000436762 | 0.716367\n",
              "99                | 0.000800731 | 0.163218\n",
              "... (490 rows omitted)"
            ],
            "text/html": [
              "<table border=\"1\" class=\"dataframe\">\n",
              "    <thead>\n",
              "        <tr>\n",
              "            <th>Number of Reviews</th> <th>Importance</th> <th>Dummy</th>\n",
              "        </tr>\n",
              "    </thead>\n",
              "    <tbody>\n",
              "        <tr>\n",
              "            <td>150              </td> <td>0.00121323 </td> <td>0.826521</td>\n",
              "        </tr>\n",
              "        <tr>\n",
              "            <td>346              </td> <td>0.00279852 </td> <td>0.895292</td>\n",
              "        </tr>\n",
              "        <tr>\n",
              "            <td>187              </td> <td>0.00151249 </td> <td>0.744446</td>\n",
              "        </tr>\n",
              "        <tr>\n",
              "            <td>75               </td> <td>0.000606615</td> <td>0.792066</td>\n",
              "        </tr>\n",
              "        <tr>\n",
              "            <td>89               </td> <td>0.000719849</td> <td>0.634568</td>\n",
              "        </tr>\n",
              "        <tr>\n",
              "            <td>94               </td> <td>0.00076029 </td> <td>0.219608</td>\n",
              "        </tr>\n",
              "        <tr>\n",
              "            <td>427              </td> <td>0.00345366 </td> <td>0.23085 </td>\n",
              "        </tr>\n",
              "        <tr>\n",
              "            <td>287              </td> <td>0.00232131 </td> <td>0.300271</td>\n",
              "        </tr>\n",
              "        <tr>\n",
              "            <td>54               </td> <td>0.000436762</td> <td>0.716367</td>\n",
              "        </tr>\n",
              "        <tr>\n",
              "            <td>99               </td> <td>0.000800731</td> <td>0.163218</td>\n",
              "        </tr>\n",
              "    </tbody>\n",
              "</table>\n",
              "<p>... (490 rows omitted)</p>"
            ]
          },
          "metadata": {},
          "execution_count": 14
        }
      ]
    },
    {
      "cell_type": "code",
      "source": [
        "\n",
        "reduced = importance"
      ],
      "metadata": {
        "id": "9f2AMdgxY7WU"
      },
      "execution_count": null,
      "outputs": []
    },
    {
      "cell_type": "code",
      "source": [
        "dummies = reduced.column(\"Dummy\")\n",
        "def find_difference(value):\n",
        "    arr = make_array()\n",
        "    for d in dummies:\n",
        "      arr = np.append(arr, ((1 - abs(value - d)) - 0.5) * 2)\n",
        "    return arr\n",
        "\n",
        "diff_vectors = reduced.apply(find_difference, \"Dummy\")\n",
        "diff_vectors\n",
        "reduced = reduced.with_column(\"Differences\", diff_vectors)\n",
        "reduced"
      ],
      "metadata": {
        "colab": {
          "base_uri": "https://localhost:8080/",
          "height": 392
        },
        "id": "ul2nJkk2T74K",
        "outputId": "6d93230d-474b-420f-da8b-34e6c95c80ca"
      },
      "execution_count": null,
      "outputs": [
        {
          "output_type": "execute_result",
          "data": {
            "text/plain": [
              "Number of Reviews | Importance  | Dummy    | Differences\n",
              "150               | 0.00121323  | 0.826521 | [ 1.          0.86245763  0.83585126  0.93109039  0.6160 ...\n",
              "346               | 0.00279852  | 0.895292 | [ 0.86245763  1.          0.69830889  0.79354802  0.4785 ...\n",
              "187               | 0.00151249  | 0.744446 | [  8.35851258e-01   6.98308890e-01   1.00000000e+00   9. ...\n",
              "75                | 0.000606615 | 0.792066 | [ 0.93109039  0.79354802  0.90476087  1.          0.6850 ...\n",
              "89                | 0.000719849 | 0.634568 | [ 0.61609563  0.47855326  0.78024437  0.68500524  1.     ...\n",
              "94                | 0.00076029  | 0.219608 | [-0.21382441 -0.35136678 -0.04967567 -0.1449148   0.1700 ...\n",
              "427               | 0.00345366  | 0.23085  | [-0.19134085 -0.32888322 -0.02719211 -0.12243124  0.1925 ...\n",
              "287               | 0.00232131  | 0.300271 | [ -5.24998227e-02  -1.90042191e-01   1.11648919e-01   1. ...\n",
              "54                | 0.000436762 | 0.716367 | [  7.79692415e-01   6.42150047e-01   9.43841157e-01   8. ...\n",
              "99                | 0.000800731 | 0.163218 | [ -3.26604313e-01  -4.64146681e-01  -1.62455571e-01  -2. ...\n",
              "... (490 rows omitted)"
            ],
            "text/html": [
              "<table border=\"1\" class=\"dataframe\">\n",
              "    <thead>\n",
              "        <tr>\n",
              "            <th>Number of Reviews</th> <th>Importance</th> <th>Dummy</th> <th>Differences</th>\n",
              "        </tr>\n",
              "    </thead>\n",
              "    <tbody>\n",
              "        <tr>\n",
              "            <td>150              </td> <td>0.00121323 </td> <td>0.826521</td> <td>[ 1.          0.86245763  0.83585126  0.93109039  0.6160 ...</td>\n",
              "        </tr>\n",
              "        <tr>\n",
              "            <td>346              </td> <td>0.00279852 </td> <td>0.895292</td> <td>[ 0.86245763  1.          0.69830889  0.79354802  0.4785 ...</td>\n",
              "        </tr>\n",
              "        <tr>\n",
              "            <td>187              </td> <td>0.00151249 </td> <td>0.744446</td> <td>[  8.35851258e-01   6.98308890e-01   1.00000000e+00   9. ...</td>\n",
              "        </tr>\n",
              "        <tr>\n",
              "            <td>75               </td> <td>0.000606615</td> <td>0.792066</td> <td>[ 0.93109039  0.79354802  0.90476087  1.          0.6850 ...</td>\n",
              "        </tr>\n",
              "        <tr>\n",
              "            <td>89               </td> <td>0.000719849</td> <td>0.634568</td> <td>[ 0.61609563  0.47855326  0.78024437  0.68500524  1.     ...</td>\n",
              "        </tr>\n",
              "        <tr>\n",
              "            <td>94               </td> <td>0.00076029 </td> <td>0.219608</td> <td>[-0.21382441 -0.35136678 -0.04967567 -0.1449148   0.1700 ...</td>\n",
              "        </tr>\n",
              "        <tr>\n",
              "            <td>427              </td> <td>0.00345366 </td> <td>0.23085 </td> <td>[-0.19134085 -0.32888322 -0.02719211 -0.12243124  0.1925 ...</td>\n",
              "        </tr>\n",
              "        <tr>\n",
              "            <td>287              </td> <td>0.00232131 </td> <td>0.300271</td> <td>[ -5.24998227e-02  -1.90042191e-01   1.11648919e-01   1. ...</td>\n",
              "        </tr>\n",
              "        <tr>\n",
              "            <td>54               </td> <td>0.000436762</td> <td>0.716367</td> <td>[  7.79692415e-01   6.42150047e-01   9.43841157e-01   8. ...</td>\n",
              "        </tr>\n",
              "        <tr>\n",
              "            <td>99               </td> <td>0.000800731</td> <td>0.163218</td> <td>[ -3.26604313e-01  -4.64146681e-01  -1.62455571e-01  -2. ...</td>\n",
              "        </tr>\n",
              "    </tbody>\n",
              "</table>\n",
              "<p>... (490 rows omitted)</p>"
            ]
          },
          "metadata": {},
          "execution_count": 16
        }
      ]
    },
    {
      "cell_type": "code",
      "source": [
        "\n",
        "importance_arr = reduced.column(\"Importance\")\n",
        "def take_dot(differences):\n",
        "  return np.dot(differences, importance_arr)\n",
        "\n",
        "importance_scalar = reduced.apply(take_dot, \"Differences\")\n",
        "reduced = reduced.with_column(\"Importance Scalar\", importance_scalar)\n",
        "reduced\n",
        "\n"
      ],
      "metadata": {
        "colab": {
          "base_uri": "https://localhost:8080/",
          "height": 392
        },
        "id": "1nQNu1yJZtM3",
        "outputId": "97d216c5-6271-40c6-c66e-05ec8ed310fe"
      },
      "execution_count": null,
      "outputs": [
        {
          "output_type": "execute_result",
          "data": {
            "text/plain": [
              "Number of Reviews | Importance  | Dummy    | Differences                                                  | Importance Scalar | Importance Rescaled\n",
              "150               | 0.00121323  | 0.826521 | [ 1.          0.86245763  0.83585126  0.93109039  0.6160 ... | 0.284548          | 0.365516\n",
              "346               | 0.00279852  | 0.895292 | [ 0.86245763  1.          0.69830889  0.79354802  0.4785 ... | 0.185078          | 0.219332\n",
              "187               | 0.00151249  | 0.744446 | [  8.35851258e-01   6.98308890e-01   1.00000000e+00   9. ... | 0.375428          | 0.516373\n",
              "75                | 0.000606615 | 0.792066 | [ 0.93109039  0.79354802  0.90476087  1.          0.6850 ... | 0.326014          | 0.432299\n",
              "89                | 0.000719849 | 0.634568 | [ 0.61609563  0.47855326  0.78024437  0.68500524  1.     ... | 0.460657          | 0.672863\n",
              "94                | 0.00076029  | 0.219608 | [-0.21382441 -0.35136678 -0.04967567 -0.1449148   0.1700 ... | 0.343063          | 0.460754\n",
              "427               | 0.00345366  | 0.23085  | [-0.19134085 -0.32888322 -0.02719211 -0.12243124  0.1925 ... | 0.355351          | 0.481626\n",
              "287               | 0.00232131  | 0.300271 | [ -5.24998227e-02  -1.90042191e-01   1.11648919e-01   1. ... | 0.418804          | 0.594201\n",
              "54                | 0.000436762 | 0.716367 | [  7.79692415e-01   6.42150047e-01   9.43841157e-01   8. ... | 0.401251          | 0.562254\n",
              "99                | 0.000800731 | 0.163218 | [ -3.26604313e-01  -4.64146681e-01  -1.62455571e-01  -2. ... | 0.273194          | 0.347829\n",
              "... (490 rows omitted)"
            ],
            "text/html": [
              "<table border=\"1\" class=\"dataframe\">\n",
              "    <thead>\n",
              "        <tr>\n",
              "            <th>Number of Reviews</th> <th>Importance</th> <th>Dummy</th> <th>Differences</th> <th>Importance Scalar</th> <th>Importance Rescaled</th>\n",
              "        </tr>\n",
              "    </thead>\n",
              "    <tbody>\n",
              "        <tr>\n",
              "            <td>150              </td> <td>0.00121323 </td> <td>0.826521</td> <td>[ 1.          0.86245763  0.83585126  0.93109039  0.6160 ...</td> <td>0.284548         </td> <td>0.365516           </td>\n",
              "        </tr>\n",
              "        <tr>\n",
              "            <td>346              </td> <td>0.00279852 </td> <td>0.895292</td> <td>[ 0.86245763  1.          0.69830889  0.79354802  0.4785 ...</td> <td>0.185078         </td> <td>0.219332           </td>\n",
              "        </tr>\n",
              "        <tr>\n",
              "            <td>187              </td> <td>0.00151249 </td> <td>0.744446</td> <td>[  8.35851258e-01   6.98308890e-01   1.00000000e+00   9. ...</td> <td>0.375428         </td> <td>0.516373           </td>\n",
              "        </tr>\n",
              "        <tr>\n",
              "            <td>75               </td> <td>0.000606615</td> <td>0.792066</td> <td>[ 0.93109039  0.79354802  0.90476087  1.          0.6850 ...</td> <td>0.326014         </td> <td>0.432299           </td>\n",
              "        </tr>\n",
              "        <tr>\n",
              "            <td>89               </td> <td>0.000719849</td> <td>0.634568</td> <td>[ 0.61609563  0.47855326  0.78024437  0.68500524  1.     ...</td> <td>0.460657         </td> <td>0.672863           </td>\n",
              "        </tr>\n",
              "        <tr>\n",
              "            <td>94               </td> <td>0.00076029 </td> <td>0.219608</td> <td>[-0.21382441 -0.35136678 -0.04967567 -0.1449148   0.1700 ...</td> <td>0.343063         </td> <td>0.460754           </td>\n",
              "        </tr>\n",
              "        <tr>\n",
              "            <td>427              </td> <td>0.00345366 </td> <td>0.23085 </td> <td>[-0.19134085 -0.32888322 -0.02719211 -0.12243124  0.1925 ...</td> <td>0.355351         </td> <td>0.481626           </td>\n",
              "        </tr>\n",
              "        <tr>\n",
              "            <td>287              </td> <td>0.00232131 </td> <td>0.300271</td> <td>[ -5.24998227e-02  -1.90042191e-01   1.11648919e-01   1. ...</td> <td>0.418804         </td> <td>0.594201           </td>\n",
              "        </tr>\n",
              "        <tr>\n",
              "            <td>54               </td> <td>0.000436762</td> <td>0.716367</td> <td>[  7.79692415e-01   6.42150047e-01   9.43841157e-01   8. ...</td> <td>0.401251         </td> <td>0.562254           </td>\n",
              "        </tr>\n",
              "        <tr>\n",
              "            <td>99               </td> <td>0.000800731</td> <td>0.163218</td> <td>[ -3.26604313e-01  -4.64146681e-01  -1.62455571e-01  -2. ...</td> <td>0.273194         </td> <td>0.347829           </td>\n",
              "        </tr>\n",
              "    </tbody>\n",
              "</table>\n",
              "<p>... (490 rows omitted)</p>"
            ]
          },
          "metadata": {},
          "execution_count": 21
        }
      ]
    },
    {
      "cell_type": "code",
      "source": [
        "rescaled = reduced.column(\"Importance Scalar\") * ( 1 + reduced.column(\"Importance Scalar\"))\n",
        "reduced = reduced.with_column(\"Importance Rescaled\", rescaled)\n",
        "reduced"
      ],
      "metadata": {
        "colab": {
          "base_uri": "https://localhost:8080/",
          "height": 392
        },
        "id": "wmQv1vt0iy_1",
        "outputId": "6a407949-28f4-4432-f4c3-511652ce4337"
      },
      "execution_count": null,
      "outputs": [
        {
          "output_type": "execute_result",
          "data": {
            "text/plain": [
              "Number of Reviews | Importance  | Dummy    | Differences                                                  | Importance Scalar | Importance Rescaled\n",
              "150               | 0.00121323  | 0.826521 | [ 1.          0.86245763  0.83585126  0.93109039  0.6160 ... | 0.284548          | 0.365516\n",
              "346               | 0.00279852  | 0.895292 | [ 0.86245763  1.          0.69830889  0.79354802  0.4785 ... | 0.185078          | 0.219332\n",
              "187               | 0.00151249  | 0.744446 | [  8.35851258e-01   6.98308890e-01   1.00000000e+00   9. ... | 0.375428          | 0.516373\n",
              "75                | 0.000606615 | 0.792066 | [ 0.93109039  0.79354802  0.90476087  1.          0.6850 ... | 0.326014          | 0.432299\n",
              "89                | 0.000719849 | 0.634568 | [ 0.61609563  0.47855326  0.78024437  0.68500524  1.     ... | 0.460657          | 0.672863\n",
              "94                | 0.00076029  | 0.219608 | [-0.21382441 -0.35136678 -0.04967567 -0.1449148   0.1700 ... | 0.343063          | 0.460754\n",
              "427               | 0.00345366  | 0.23085  | [-0.19134085 -0.32888322 -0.02719211 -0.12243124  0.1925 ... | 0.355351          | 0.481626\n",
              "287               | 0.00232131  | 0.300271 | [ -5.24998227e-02  -1.90042191e-01   1.11648919e-01   1. ... | 0.418804          | 0.594201\n",
              "54                | 0.000436762 | 0.716367 | [  7.79692415e-01   6.42150047e-01   9.43841157e-01   8. ... | 0.401251          | 0.562254\n",
              "99                | 0.000800731 | 0.163218 | [ -3.26604313e-01  -4.64146681e-01  -1.62455571e-01  -2. ... | 0.273194          | 0.347829\n",
              "... (490 rows omitted)"
            ],
            "text/html": [
              "<table border=\"1\" class=\"dataframe\">\n",
              "    <thead>\n",
              "        <tr>\n",
              "            <th>Number of Reviews</th> <th>Importance</th> <th>Dummy</th> <th>Differences</th> <th>Importance Scalar</th> <th>Importance Rescaled</th>\n",
              "        </tr>\n",
              "    </thead>\n",
              "    <tbody>\n",
              "        <tr>\n",
              "            <td>150              </td> <td>0.00121323 </td> <td>0.826521</td> <td>[ 1.          0.86245763  0.83585126  0.93109039  0.6160 ...</td> <td>0.284548         </td> <td>0.365516           </td>\n",
              "        </tr>\n",
              "        <tr>\n",
              "            <td>346              </td> <td>0.00279852 </td> <td>0.895292</td> <td>[ 0.86245763  1.          0.69830889  0.79354802  0.4785 ...</td> <td>0.185078         </td> <td>0.219332           </td>\n",
              "        </tr>\n",
              "        <tr>\n",
              "            <td>187              </td> <td>0.00151249 </td> <td>0.744446</td> <td>[  8.35851258e-01   6.98308890e-01   1.00000000e+00   9. ...</td> <td>0.375428         </td> <td>0.516373           </td>\n",
              "        </tr>\n",
              "        <tr>\n",
              "            <td>75               </td> <td>0.000606615</td> <td>0.792066</td> <td>[ 0.93109039  0.79354802  0.90476087  1.          0.6850 ...</td> <td>0.326014         </td> <td>0.432299           </td>\n",
              "        </tr>\n",
              "        <tr>\n",
              "            <td>89               </td> <td>0.000719849</td> <td>0.634568</td> <td>[ 0.61609563  0.47855326  0.78024437  0.68500524  1.     ...</td> <td>0.460657         </td> <td>0.672863           </td>\n",
              "        </tr>\n",
              "        <tr>\n",
              "            <td>94               </td> <td>0.00076029 </td> <td>0.219608</td> <td>[-0.21382441 -0.35136678 -0.04967567 -0.1449148   0.1700 ...</td> <td>0.343063         </td> <td>0.460754           </td>\n",
              "        </tr>\n",
              "        <tr>\n",
              "            <td>427              </td> <td>0.00345366 </td> <td>0.23085 </td> <td>[-0.19134085 -0.32888322 -0.02719211 -0.12243124  0.1925 ...</td> <td>0.355351         </td> <td>0.481626           </td>\n",
              "        </tr>\n",
              "        <tr>\n",
              "            <td>287              </td> <td>0.00232131 </td> <td>0.300271</td> <td>[ -5.24998227e-02  -1.90042191e-01   1.11648919e-01   1. ...</td> <td>0.418804         </td> <td>0.594201           </td>\n",
              "        </tr>\n",
              "        <tr>\n",
              "            <td>54               </td> <td>0.000436762</td> <td>0.716367</td> <td>[  7.79692415e-01   6.42150047e-01   9.43841157e-01   8. ...</td> <td>0.401251         </td> <td>0.562254           </td>\n",
              "        </tr>\n",
              "        <tr>\n",
              "            <td>99               </td> <td>0.000800731</td> <td>0.163218</td> <td>[ -3.26604313e-01  -4.64146681e-01  -1.62455571e-01  -2. ...</td> <td>0.273194         </td> <td>0.347829           </td>\n",
              "        </tr>\n",
              "    </tbody>\n",
              "</table>\n",
              "<p>... (490 rows omitted)</p>"
            ]
          },
          "metadata": {},
          "execution_count": 18
        }
      ]
    },
    {
      "cell_type": "code",
      "source": [
        "#New Stuff Nov 29"
      ],
      "metadata": {
        "id": "ed4b7898kGlQ"
      },
      "execution_count": null,
      "outputs": []
    },
    {
      "cell_type": "code",
      "source": [
        "importance_vector = reduced.with_column(\"Importance Res\")"
      ],
      "metadata": {
        "id": "Di7nmoIKntQg",
        "colab": {
          "base_uri": "https://localhost:8080/",
          "height": 294
        },
        "outputId": "13e1c1cb-2953-4193-ddec-f1ec873ac34c"
      },
      "execution_count": null,
      "outputs": [
        {
          "output_type": "error",
          "ename": "AttributeError",
          "evalue": "ignored",
          "traceback": [
            "\u001b[0;31m---------------------------------------------------------------------------\u001b[0m",
            "\u001b[0;31mAttributeError\u001b[0m                            Traceback (most recent call last)",
            "\u001b[0;32m<ipython-input-20-52551c437a6e>\u001b[0m in \u001b[0;36m<module>\u001b[0;34m\u001b[0m\n\u001b[0;32m----> 1\u001b[0;31m \u001b[0mimportance_vector\u001b[0m \u001b[0;34m=\u001b[0m \u001b[0mreduced\u001b[0m\u001b[0;34m.\u001b[0m\u001b[0mwith_colum\u001b[0m\u001b[0;34m\u001b[0m\u001b[0;34m\u001b[0m\u001b[0m\n\u001b[0m",
            "\u001b[0;32m/usr/local/lib/python3.7/dist-packages/datascience/tables.py\u001b[0m in \u001b[0;36m__getattr__\u001b[0;34m(self, attr)\u001b[0m\n\u001b[1;32m    316\u001b[0m         \u001b[0;32melse\u001b[0m\u001b[0;34m:\u001b[0m\u001b[0;34m\u001b[0m\u001b[0;34m\u001b[0m\u001b[0m\n\u001b[1;32m    317\u001b[0m             \u001b[0mmsg\u001b[0m \u001b[0;34m=\u001b[0m \u001b[0;34m\"'{0}' object has no attribute '{1}'\"\u001b[0m\u001b[0;34m.\u001b[0m\u001b[0mformat\u001b[0m\u001b[0;34m(\u001b[0m\u001b[0mtype\u001b[0m\u001b[0;34m(\u001b[0m\u001b[0mself\u001b[0m\u001b[0;34m)\u001b[0m\u001b[0;34m.\u001b[0m\u001b[0m__name__\u001b[0m\u001b[0;34m,\u001b[0m \u001b[0mattr\u001b[0m\u001b[0;34m)\u001b[0m\u001b[0;34m\u001b[0m\u001b[0;34m\u001b[0m\u001b[0m\n\u001b[0;32m--> 318\u001b[0;31m             \u001b[0;32mraise\u001b[0m \u001b[0mAttributeError\u001b[0m\u001b[0;34m(\u001b[0m\u001b[0mmsg\u001b[0m\u001b[0;34m)\u001b[0m\u001b[0;34m\u001b[0m\u001b[0;34m\u001b[0m\u001b[0m\n\u001b[0m\u001b[1;32m    319\u001b[0m \u001b[0;34m\u001b[0m\u001b[0m\n\u001b[1;32m    320\u001b[0m     \u001b[0;31m####################\u001b[0m\u001b[0;34m\u001b[0m\u001b[0;34m\u001b[0m\u001b[0;34m\u001b[0m\u001b[0m\n",
            "\u001b[0;31mAttributeError\u001b[0m: 'Table' object has no attribute 'with_colum'"
          ]
        }
      ]
    },
    {
      "cell_type": "code",
      "source": [],
      "metadata": {
        "id": "0zdjdMlGq1rq"
      },
      "execution_count": null,
      "outputs": []
    }
  ]
}