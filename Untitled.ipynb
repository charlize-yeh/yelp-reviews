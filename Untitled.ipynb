{
  "nbformat": 4,
  "nbformat_minor": 0,
  "metadata": {
    "colab": {
      "provenance": []
    },
    "kernelspec": {
      "name": "python3",
      "display_name": "Python 3"
    },
    "language_info": {
      "name": "python"
    }
  },
  "cells": [
    {
      "cell_type": "code",
      "source": [
        "import numpy as np\n",
        "from datascience import *\n",
        "import random\n",
        "\n",
        "# These lines do some fancy plotting magic\n",
        "import matplotlib\n",
        "%matplotlib inline\n",
        "import matplotlib.pyplot as plt\n",
        "plt.style.use('fivethirtyeight')\n",
        "import warnings\n",
        "warnings.simplefilter('ignore')\n",
        "from datetime import datetime"
      ],
      "metadata": {
        "id": "FsFkbVE6LTSE"
      },
      "execution_count": null,
      "outputs": []
    },
    {
      "cell_type": "code",
      "execution_count": null,
      "metadata": {
        "colab": {
          "base_uri": "https://localhost:8080/"
        },
        "id": "ZFpIybHPK92n",
        "outputId": "1fb210c8-3854-42ff-9e3f-0431cf484edc"
      },
      "outputs": [
        {
          "output_type": "execute_result",
          "data": {
            "text/plain": [
              "array([ 5.,  4.,  3.,  5.,  3.,  4.,  2.,  1.,  5.,  3.])"
            ]
          },
          "metadata": {},
          "execution_count": 96
        }
      ],
      "source": [
        "big_size = 10\n",
        "\n",
        "ratings = make_array()\n",
        "for i in range(big_size):\n",
        "  ratings = np.append(ratings, random.randint(1,5))\n",
        "\n",
        "ratings"
      ]
    },
    {
      "cell_type": "code",
      "source": [
        "reviews = Table().with_column(\"ratings\", ratings)\n",
        "reviews"
      ],
      "metadata": {
        "colab": {
          "base_uri": "https://localhost:8080/",
          "height": 363
        },
        "id": "VvMYwUaDLpVC",
        "outputId": "2aeb7444-7ec1-4212-8fe7-2d14aed8b092"
      },
      "execution_count": null,
      "outputs": [
        {
          "output_type": "execute_result",
          "data": {
            "text/plain": [
              "ratings\n",
              "5\n",
              "4\n",
              "3\n",
              "5\n",
              "3\n",
              "4\n",
              "2\n",
              "1\n",
              "5\n",
              "3"
            ],
            "text/html": [
              "<table border=\"1\" class=\"dataframe\">\n",
              "    <thead>\n",
              "        <tr>\n",
              "            <th>ratings</th>\n",
              "        </tr>\n",
              "    </thead>\n",
              "    <tbody>\n",
              "        <tr>\n",
              "            <td>5      </td>\n",
              "        </tr>\n",
              "        <tr>\n",
              "            <td>4      </td>\n",
              "        </tr>\n",
              "        <tr>\n",
              "            <td>3      </td>\n",
              "        </tr>\n",
              "        <tr>\n",
              "            <td>5      </td>\n",
              "        </tr>\n",
              "        <tr>\n",
              "            <td>3      </td>\n",
              "        </tr>\n",
              "        <tr>\n",
              "            <td>4      </td>\n",
              "        </tr>\n",
              "        <tr>\n",
              "            <td>2      </td>\n",
              "        </tr>\n",
              "        <tr>\n",
              "            <td>1      </td>\n",
              "        </tr>\n",
              "        <tr>\n",
              "            <td>5      </td>\n",
              "        </tr>\n",
              "        <tr>\n",
              "            <td>3      </td>\n",
              "        </tr>\n",
              "    </tbody>\n",
              "</table>"
            ]
          },
          "metadata": {},
          "execution_count": 97
        }
      ]
    },
    {
      "cell_type": "code",
      "source": [
        "mu, sigma = 5, 2 # mean and standard deviation\n",
        "importance = np.random.normal(mu, sigma, big_size)\n",
        "importance"
      ],
      "metadata": {
        "colab": {
          "base_uri": "https://localhost:8080/"
        },
        "id": "ysCrsx3gMQWL",
        "outputId": "d288b37c-3a0e-4648-a85b-6b5ae82e99eb"
      },
      "execution_count": null,
      "outputs": [
        {
          "output_type": "execute_result",
          "data": {
            "text/plain": [
              "array([ 3.96986765,  3.87379159,  5.33923876,  5.90306769,  5.4190989 ,\n",
              "        5.31346559,  2.26376782,  5.17286978,  9.60917524,  6.05050647])"
            ]
          },
          "metadata": {},
          "execution_count": 98
        }
      ]
    },
    {
      "cell_type": "code",
      "source": [
        "reviews = reviews.with_column(\"importance\", importance)\n",
        "reviews"
      ],
      "metadata": {
        "colab": {
          "base_uri": "https://localhost:8080/",
          "height": 363
        },
        "id": "rXqFKhf0MmB0",
        "outputId": "221d15f9-b327-4a42-e4f2-33bc60280386"
      },
      "execution_count": null,
      "outputs": [
        {
          "output_type": "execute_result",
          "data": {
            "text/plain": [
              "ratings | importance\n",
              "5       | 3.96987\n",
              "4       | 3.87379\n",
              "3       | 5.33924\n",
              "5       | 5.90307\n",
              "3       | 5.4191\n",
              "4       | 5.31347\n",
              "2       | 2.26377\n",
              "1       | 5.17287\n",
              "5       | 9.60918\n",
              "3       | 6.05051"
            ],
            "text/html": [
              "<table border=\"1\" class=\"dataframe\">\n",
              "    <thead>\n",
              "        <tr>\n",
              "            <th>ratings</th> <th>importance</th>\n",
              "        </tr>\n",
              "    </thead>\n",
              "    <tbody>\n",
              "        <tr>\n",
              "            <td>5      </td> <td>3.96987   </td>\n",
              "        </tr>\n",
              "        <tr>\n",
              "            <td>4      </td> <td>3.87379   </td>\n",
              "        </tr>\n",
              "        <tr>\n",
              "            <td>3      </td> <td>5.33924   </td>\n",
              "        </tr>\n",
              "        <tr>\n",
              "            <td>5      </td> <td>5.90307   </td>\n",
              "        </tr>\n",
              "        <tr>\n",
              "            <td>3      </td> <td>5.4191    </td>\n",
              "        </tr>\n",
              "        <tr>\n",
              "            <td>4      </td> <td>5.31347   </td>\n",
              "        </tr>\n",
              "        <tr>\n",
              "            <td>2      </td> <td>2.26377   </td>\n",
              "        </tr>\n",
              "        <tr>\n",
              "            <td>1      </td> <td>5.17287   </td>\n",
              "        </tr>\n",
              "        <tr>\n",
              "            <td>5      </td> <td>9.60918   </td>\n",
              "        </tr>\n",
              "        <tr>\n",
              "            <td>3      </td> <td>6.05051   </td>\n",
              "        </tr>\n",
              "    </tbody>\n",
              "</table>"
            ]
          },
          "metadata": {},
          "execution_count": 99
        }
      ]
    },
    {
      "cell_type": "code",
      "source": [
        "random_variables = np.random.random_integers(1, 50, big_size)\n",
        "reviews = reviews.with_column(\"random var\", random_variables)\n",
        "reviews"
      ],
      "metadata": {
        "colab": {
          "base_uri": "https://localhost:8080/",
          "height": 363
        },
        "id": "teHsswEiM3s0",
        "outputId": "4cfc26c1-8c9d-46b2-9d44-699425fec5b2"
      },
      "execution_count": null,
      "outputs": [
        {
          "output_type": "execute_result",
          "data": {
            "text/plain": [
              "ratings | importance | random var\n",
              "5       | 3.96987    | 24\n",
              "4       | 3.87379    | 31\n",
              "3       | 5.33924    | 10\n",
              "5       | 5.90307    | 50\n",
              "3       | 5.4191     | 39\n",
              "4       | 5.31347    | 4\n",
              "2       | 2.26377    | 1\n",
              "1       | 5.17287    | 20\n",
              "5       | 9.60918    | 15\n",
              "3       | 6.05051    | 3"
            ],
            "text/html": [
              "<table border=\"1\" class=\"dataframe\">\n",
              "    <thead>\n",
              "        <tr>\n",
              "            <th>ratings</th> <th>importance</th> <th>random var</th>\n",
              "        </tr>\n",
              "    </thead>\n",
              "    <tbody>\n",
              "        <tr>\n",
              "            <td>5      </td> <td>3.96987   </td> <td>24        </td>\n",
              "        </tr>\n",
              "        <tr>\n",
              "            <td>4      </td> <td>3.87379   </td> <td>31        </td>\n",
              "        </tr>\n",
              "        <tr>\n",
              "            <td>3      </td> <td>5.33924   </td> <td>10        </td>\n",
              "        </tr>\n",
              "        <tr>\n",
              "            <td>5      </td> <td>5.90307   </td> <td>50        </td>\n",
              "        </tr>\n",
              "        <tr>\n",
              "            <td>3      </td> <td>5.4191    </td> <td>39        </td>\n",
              "        </tr>\n",
              "        <tr>\n",
              "            <td>4      </td> <td>5.31347   </td> <td>4         </td>\n",
              "        </tr>\n",
              "        <tr>\n",
              "            <td>2      </td> <td>2.26377   </td> <td>1         </td>\n",
              "        </tr>\n",
              "        <tr>\n",
              "            <td>1      </td> <td>5.17287   </td> <td>20        </td>\n",
              "        </tr>\n",
              "        <tr>\n",
              "            <td>5      </td> <td>9.60918   </td> <td>15        </td>\n",
              "        </tr>\n",
              "        <tr>\n",
              "            <td>3      </td> <td>6.05051   </td> <td>3         </td>\n",
              "        </tr>\n",
              "    </tbody>\n",
              "</table>"
            ]
          },
          "metadata": {},
          "execution_count": 100
        }
      ]
    },
    {
      "cell_type": "code",
      "source": [
        "random_variables\n",
        "def find_similarity(var):\n",
        "  diff_arr = make_array()\n",
        "  for r in random_variables:\n",
        "    diff_arr = np.append(diff_arr, abs(r - var))\n",
        "  return 50 - diff_arr\n"
      ],
      "metadata": {
        "id": "DpmvBM4mNhs_"
      },
      "execution_count": null,
      "outputs": []
    },
    {
      "cell_type": "code",
      "source": [
        "similarity = find_similarity(11)\n",
        "similarity"
      ],
      "metadata": {
        "colab": {
          "base_uri": "https://localhost:8080/"
        },
        "id": "W9bdAjMWOTUv",
        "outputId": "ccd10189-df31-4a4a-8f2a-43c052b0e7b7"
      },
      "execution_count": null,
      "outputs": [
        {
          "output_type": "execute_result",
          "data": {
            "text/plain": [
              "array([ 37.,  30.,  49.,  11.,  22.,  43.,  40.,  41.,  46.,  42.])"
            ]
          },
          "metadata": {},
          "execution_count": 102
        }
      ]
    },
    {
      "cell_type": "code",
      "source": [
        "similarities = reviews.apply(find_similarity, \"random var\")\n",
        "reviews = reviews.with_column(\"similarities\", similarities)\n",
        "reviews"
      ],
      "metadata": {
        "colab": {
          "base_uri": "https://localhost:8080/",
          "height": 363
        },
        "id": "mWwpGafXOdFv",
        "outputId": "f2970419-4889-48da-9a65-90f3037df20f"
      },
      "execution_count": null,
      "outputs": [
        {
          "output_type": "execute_result",
          "data": {
            "text/plain": [
              "ratings | importance | random var | similarities\n",
              "5       | 3.96987    | 24         | [ 50.  43.  36.  24.  35.  30.  27.  46.  41.  29.]\n",
              "4       | 3.87379    | 31         | [ 43.  50.  29.  31.  42.  23.  20.  39.  34.  22.]\n",
              "3       | 5.33924    | 10         | [ 36.  29.  50.  10.  21.  44.  41.  40.  45.  43.]\n",
              "5       | 5.90307    | 50         | [ 24.  31.  10.  50.  39.   4.   1.  20.  15.   3.]\n",
              "3       | 5.4191     | 39         | [ 35.  42.  21.  39.  50.  15.  12.  31.  26.  14.]\n",
              "4       | 5.31347    | 4          | [ 30.  23.  44.   4.  15.  50.  47.  34.  39.  49.]\n",
              "2       | 2.26377    | 1          | [ 27.  20.  41.   1.  12.  47.  50.  31.  36.  48.]\n",
              "1       | 5.17287    | 20         | [ 46.  39.  40.  20.  31.  34.  31.  50.  45.  33.]\n",
              "5       | 9.60918    | 15         | [ 41.  34.  45.  15.  26.  39.  36.  45.  50.  38.]\n",
              "3       | 6.05051    | 3          | [ 29.  22.  43.   3.  14.  49.  48.  33.  38.  50.]"
            ],
            "text/html": [
              "<table border=\"1\" class=\"dataframe\">\n",
              "    <thead>\n",
              "        <tr>\n",
              "            <th>ratings</th> <th>importance</th> <th>random var</th> <th>similarities</th>\n",
              "        </tr>\n",
              "    </thead>\n",
              "    <tbody>\n",
              "        <tr>\n",
              "            <td>5      </td> <td>3.96987   </td> <td>24        </td> <td>[ 50.  43.  36.  24.  35.  30.  27.  46.  41.  29.]</td>\n",
              "        </tr>\n",
              "        <tr>\n",
              "            <td>4      </td> <td>3.87379   </td> <td>31        </td> <td>[ 43.  50.  29.  31.  42.  23.  20.  39.  34.  22.]</td>\n",
              "        </tr>\n",
              "        <tr>\n",
              "            <td>3      </td> <td>5.33924   </td> <td>10        </td> <td>[ 36.  29.  50.  10.  21.  44.  41.  40.  45.  43.]</td>\n",
              "        </tr>\n",
              "        <tr>\n",
              "            <td>5      </td> <td>5.90307   </td> <td>50        </td> <td>[ 24.  31.  10.  50.  39.   4.   1.  20.  15.   3.]</td>\n",
              "        </tr>\n",
              "        <tr>\n",
              "            <td>3      </td> <td>5.4191    </td> <td>39        </td> <td>[ 35.  42.  21.  39.  50.  15.  12.  31.  26.  14.]</td>\n",
              "        </tr>\n",
              "        <tr>\n",
              "            <td>4      </td> <td>5.31347   </td> <td>4         </td> <td>[ 30.  23.  44.   4.  15.  50.  47.  34.  39.  49.]</td>\n",
              "        </tr>\n",
              "        <tr>\n",
              "            <td>2      </td> <td>2.26377   </td> <td>1         </td> <td>[ 27.  20.  41.   1.  12.  47.  50.  31.  36.  48.]</td>\n",
              "        </tr>\n",
              "        <tr>\n",
              "            <td>1      </td> <td>5.17287   </td> <td>20        </td> <td>[ 46.  39.  40.  20.  31.  34.  31.  50.  45.  33.]</td>\n",
              "        </tr>\n",
              "        <tr>\n",
              "            <td>5      </td> <td>9.60918   </td> <td>15        </td> <td>[ 41.  34.  45.  15.  26.  39.  36.  45.  50.  38.]</td>\n",
              "        </tr>\n",
              "        <tr>\n",
              "            <td>3      </td> <td>6.05051   </td> <td>3         </td> <td>[ 29.  22.  43.   3.  14.  49.  48.  33.  38.  50.]</td>\n",
              "        </tr>\n",
              "    </tbody>\n",
              "</table>"
            ]
          },
          "metadata": {},
          "execution_count": 103
        }
      ]
    },
    {
      "cell_type": "code",
      "source": [
        "similarities"
      ],
      "metadata": {
        "colab": {
          "base_uri": "https://localhost:8080/"
        },
        "id": "ihPZx3q9PCn6",
        "outputId": "792fb2d0-51eb-4b41-e24c-3935940b6d29"
      },
      "execution_count": null,
      "outputs": [
        {
          "output_type": "execute_result",
          "data": {
            "text/plain": [
              "array([[ 50.,  43.,  36.,  24.,  35.,  30.,  27.,  46.,  41.,  29.],\n",
              "       [ 43.,  50.,  29.,  31.,  42.,  23.,  20.,  39.,  34.,  22.],\n",
              "       [ 36.,  29.,  50.,  10.,  21.,  44.,  41.,  40.,  45.,  43.],\n",
              "       [ 24.,  31.,  10.,  50.,  39.,   4.,   1.,  20.,  15.,   3.],\n",
              "       [ 35.,  42.,  21.,  39.,  50.,  15.,  12.,  31.,  26.,  14.],\n",
              "       [ 30.,  23.,  44.,   4.,  15.,  50.,  47.,  34.,  39.,  49.],\n",
              "       [ 27.,  20.,  41.,   1.,  12.,  47.,  50.,  31.,  36.,  48.],\n",
              "       [ 46.,  39.,  40.,  20.,  31.,  34.,  31.,  50.,  45.,  33.],\n",
              "       [ 41.,  34.,  45.,  15.,  26.,  39.,  36.,  45.,  50.,  38.],\n",
              "       [ 29.,  22.,  43.,   3.,  14.,  49.,  48.,  33.,  38.,  50.]])"
            ]
          },
          "metadata": {},
          "execution_count": 104
        }
      ]
    },
    {
      "cell_type": "code",
      "source": [
        "for i in range(len(similarities)):\n",
        "  for j in range(len(similarities[0])):\n",
        "    if i == j:\n",
        "      similarities[i][j] = 0\n",
        "\n",
        "reviews = reviews.with_column(\"similarities\", similarities)\n",
        "reviews"
      ],
      "metadata": {
        "colab": {
          "base_uri": "https://localhost:8080/",
          "height": 363
        },
        "id": "jFYeWm-GRQKK",
        "outputId": "ccc3b002-bd8f-4a3b-a521-ad9b124bb87a"
      },
      "execution_count": null,
      "outputs": [
        {
          "output_type": "execute_result",
          "data": {
            "text/plain": [
              "ratings | importance | random var | similarities\n",
              "5       | 3.96987    | 24         | [  0.  43.  36.  24.  35.  30.  27.  46.  41.  29.]\n",
              "4       | 3.87379    | 31         | [ 43.   0.  29.  31.  42.  23.  20.  39.  34.  22.]\n",
              "3       | 5.33924    | 10         | [ 36.  29.   0.  10.  21.  44.  41.  40.  45.  43.]\n",
              "5       | 5.90307    | 50         | [ 24.  31.  10.   0.  39.   4.   1.  20.  15.   3.]\n",
              "3       | 5.4191     | 39         | [ 35.  42.  21.  39.   0.  15.  12.  31.  26.  14.]\n",
              "4       | 5.31347    | 4          | [ 30.  23.  44.   4.  15.   0.  47.  34.  39.  49.]\n",
              "2       | 2.26377    | 1          | [ 27.  20.  41.   1.  12.  47.   0.  31.  36.  48.]\n",
              "1       | 5.17287    | 20         | [ 46.  39.  40.  20.  31.  34.  31.   0.  45.  33.]\n",
              "5       | 9.60918    | 15         | [ 41.  34.  45.  15.  26.  39.  36.  45.   0.  38.]\n",
              "3       | 6.05051    | 3          | [ 29.  22.  43.   3.  14.  49.  48.  33.  38.   0.]"
            ],
            "text/html": [
              "<table border=\"1\" class=\"dataframe\">\n",
              "    <thead>\n",
              "        <tr>\n",
              "            <th>ratings</th> <th>importance</th> <th>random var</th> <th>similarities</th>\n",
              "        </tr>\n",
              "    </thead>\n",
              "    <tbody>\n",
              "        <tr>\n",
              "            <td>5      </td> <td>3.96987   </td> <td>24        </td> <td>[  0.  43.  36.  24.  35.  30.  27.  46.  41.  29.]</td>\n",
              "        </tr>\n",
              "        <tr>\n",
              "            <td>4      </td> <td>3.87379   </td> <td>31        </td> <td>[ 43.   0.  29.  31.  42.  23.  20.  39.  34.  22.]</td>\n",
              "        </tr>\n",
              "        <tr>\n",
              "            <td>3      </td> <td>5.33924   </td> <td>10        </td> <td>[ 36.  29.   0.  10.  21.  44.  41.  40.  45.  43.]</td>\n",
              "        </tr>\n",
              "        <tr>\n",
              "            <td>5      </td> <td>5.90307   </td> <td>50        </td> <td>[ 24.  31.  10.   0.  39.   4.   1.  20.  15.   3.]</td>\n",
              "        </tr>\n",
              "        <tr>\n",
              "            <td>3      </td> <td>5.4191    </td> <td>39        </td> <td>[ 35.  42.  21.  39.   0.  15.  12.  31.  26.  14.]</td>\n",
              "        </tr>\n",
              "        <tr>\n",
              "            <td>4      </td> <td>5.31347   </td> <td>4         </td> <td>[ 30.  23.  44.   4.  15.   0.  47.  34.  39.  49.]</td>\n",
              "        </tr>\n",
              "        <tr>\n",
              "            <td>2      </td> <td>2.26377   </td> <td>1         </td> <td>[ 27.  20.  41.   1.  12.  47.   0.  31.  36.  48.]</td>\n",
              "        </tr>\n",
              "        <tr>\n",
              "            <td>1      </td> <td>5.17287   </td> <td>20        </td> <td>[ 46.  39.  40.  20.  31.  34.  31.   0.  45.  33.]</td>\n",
              "        </tr>\n",
              "        <tr>\n",
              "            <td>5      </td> <td>9.60918   </td> <td>15        </td> <td>[ 41.  34.  45.  15.  26.  39.  36.  45.   0.  38.]</td>\n",
              "        </tr>\n",
              "        <tr>\n",
              "            <td>3      </td> <td>6.05051   </td> <td>3         </td> <td>[ 29.  22.  43.   3.  14.  49.  48.  33.  38.   0.]</td>\n",
              "        </tr>\n",
              "    </tbody>\n",
              "</table>"
            ]
          },
          "metadata": {},
          "execution_count": 105
        }
      ]
    },
    {
      "cell_type": "code",
      "source": [
        "sim_sums = reviews.apply(sum, \"similarities\")\n",
        "reviews = reviews.with_column(\"similarity sum\", sim_sums)\n",
        "reviews"
      ],
      "metadata": {
        "colab": {
          "base_uri": "https://localhost:8080/",
          "height": 363
        },
        "id": "3rJWn0NSRqiT",
        "outputId": "1e808c72-7401-404a-9224-9d6ac71928f2"
      },
      "execution_count": null,
      "outputs": [
        {
          "output_type": "execute_result",
          "data": {
            "text/plain": [
              "ratings | importance | random var | similarities                                        | similarity sum\n",
              "5       | 3.96987    | 24         | [  0.  43.  36.  24.  35.  30.  27.  46.  41.  29.] | 311\n",
              "4       | 3.87379    | 31         | [ 43.   0.  29.  31.  42.  23.  20.  39.  34.  22.] | 283\n",
              "3       | 5.33924    | 10         | [ 36.  29.   0.  10.  21.  44.  41.  40.  45.  43.] | 309\n",
              "5       | 5.90307    | 50         | [ 24.  31.  10.   0.  39.   4.   1.  20.  15.   3.] | 147\n",
              "3       | 5.4191     | 39         | [ 35.  42.  21.  39.   0.  15.  12.  31.  26.  14.] | 235\n",
              "4       | 5.31347    | 4          | [ 30.  23.  44.   4.  15.   0.  47.  34.  39.  49.] | 285\n",
              "2       | 2.26377    | 1          | [ 27.  20.  41.   1.  12.  47.   0.  31.  36.  48.] | 263\n",
              "1       | 5.17287    | 20         | [ 46.  39.  40.  20.  31.  34.  31.   0.  45.  33.] | 319\n",
              "5       | 9.60918    | 15         | [ 41.  34.  45.  15.  26.  39.  36.  45.   0.  38.] | 319\n",
              "3       | 6.05051    | 3          | [ 29.  22.  43.   3.  14.  49.  48.  33.  38.   0.] | 279"
            ],
            "text/html": [
              "<table border=\"1\" class=\"dataframe\">\n",
              "    <thead>\n",
              "        <tr>\n",
              "            <th>ratings</th> <th>importance</th> <th>random var</th> <th>similarities</th> <th>similarity sum</th>\n",
              "        </tr>\n",
              "    </thead>\n",
              "    <tbody>\n",
              "        <tr>\n",
              "            <td>5      </td> <td>3.96987   </td> <td>24        </td> <td>[  0.  43.  36.  24.  35.  30.  27.  46.  41.  29.]</td> <td>311           </td>\n",
              "        </tr>\n",
              "        <tr>\n",
              "            <td>4      </td> <td>3.87379   </td> <td>31        </td> <td>[ 43.   0.  29.  31.  42.  23.  20.  39.  34.  22.]</td> <td>283           </td>\n",
              "        </tr>\n",
              "        <tr>\n",
              "            <td>3      </td> <td>5.33924   </td> <td>10        </td> <td>[ 36.  29.   0.  10.  21.  44.  41.  40.  45.  43.]</td> <td>309           </td>\n",
              "        </tr>\n",
              "        <tr>\n",
              "            <td>5      </td> <td>5.90307   </td> <td>50        </td> <td>[ 24.  31.  10.   0.  39.   4.   1.  20.  15.   3.]</td> <td>147           </td>\n",
              "        </tr>\n",
              "        <tr>\n",
              "            <td>3      </td> <td>5.4191    </td> <td>39        </td> <td>[ 35.  42.  21.  39.   0.  15.  12.  31.  26.  14.]</td> <td>235           </td>\n",
              "        </tr>\n",
              "        <tr>\n",
              "            <td>4      </td> <td>5.31347   </td> <td>4         </td> <td>[ 30.  23.  44.   4.  15.   0.  47.  34.  39.  49.]</td> <td>285           </td>\n",
              "        </tr>\n",
              "        <tr>\n",
              "            <td>2      </td> <td>2.26377   </td> <td>1         </td> <td>[ 27.  20.  41.   1.  12.  47.   0.  31.  36.  48.]</td> <td>263           </td>\n",
              "        </tr>\n",
              "        <tr>\n",
              "            <td>1      </td> <td>5.17287   </td> <td>20        </td> <td>[ 46.  39.  40.  20.  31.  34.  31.   0.  45.  33.]</td> <td>319           </td>\n",
              "        </tr>\n",
              "        <tr>\n",
              "            <td>5      </td> <td>9.60918   </td> <td>15        </td> <td>[ 41.  34.  45.  15.  26.  39.  36.  45.   0.  38.]</td> <td>319           </td>\n",
              "        </tr>\n",
              "        <tr>\n",
              "            <td>3      </td> <td>6.05051   </td> <td>3         </td> <td>[ 29.  22.  43.   3.  14.  49.  48.  33.  38.   0.]</td> <td>279           </td>\n",
              "        </tr>\n",
              "    </tbody>\n",
              "</table>"
            ]
          },
          "metadata": {},
          "execution_count": 106
        }
      ]
    },
    {
      "cell_type": "code",
      "source": [
        "def find_proportion(similarities, total_sum):\n",
        "  return similarities / total_sum\n",
        "\n",
        "similarity_proportions = reviews.apply(find_proportion, \"similarities\", \"similarity sum\")\n",
        "similarity_proportions"
      ],
      "metadata": {
        "colab": {
          "base_uri": "https://localhost:8080/"
        },
        "id": "ok4EuEHpR5o0",
        "outputId": "15416a3a-5aa7-430e-e086-f78f3c180168"
      },
      "execution_count": null,
      "outputs": [
        {
          "output_type": "execute_result",
          "data": {
            "text/plain": [
              "array([[ 0.        ,  0.13826367,  0.11575563,  0.07717042,  0.11254019,\n",
              "         0.09646302,  0.08681672,  0.14790997,  0.1318328 ,  0.09324759],\n",
              "       [ 0.15194346,  0.        ,  0.1024735 ,  0.10954064,  0.14840989,\n",
              "         0.08127208,  0.07067138,  0.13780919,  0.12014134,  0.07773852],\n",
              "       [ 0.11650485,  0.09385113,  0.        ,  0.03236246,  0.06796117,\n",
              "         0.14239482,  0.13268608,  0.12944984,  0.14563107,  0.13915858],\n",
              "       [ 0.16326531,  0.21088435,  0.06802721,  0.        ,  0.26530612,\n",
              "         0.02721088,  0.00680272,  0.13605442,  0.10204082,  0.02040816],\n",
              "       [ 0.14893617,  0.1787234 ,  0.0893617 ,  0.16595745,  0.        ,\n",
              "         0.06382979,  0.05106383,  0.13191489,  0.1106383 ,  0.05957447],\n",
              "       [ 0.10526316,  0.08070175,  0.15438596,  0.01403509,  0.05263158,\n",
              "         0.        ,  0.16491228,  0.11929825,  0.13684211,  0.17192982],\n",
              "       [ 0.1026616 ,  0.07604563,  0.15589354,  0.00380228,  0.04562738,\n",
              "         0.17870722,  0.        ,  0.11787072,  0.13688213,  0.18250951],\n",
              "       [ 0.14420063,  0.12225705,  0.12539185,  0.06269592,  0.09717868,\n",
              "         0.10658307,  0.09717868,  0.        ,  0.14106583,  0.10344828],\n",
              "       [ 0.12852665,  0.10658307,  0.14106583,  0.04702194,  0.0815047 ,\n",
              "         0.12225705,  0.11285266,  0.14106583,  0.        ,  0.11912226],\n",
              "       [ 0.10394265,  0.07885305,  0.15412186,  0.01075269,  0.05017921,\n",
              "         0.17562724,  0.17204301,  0.11827957,  0.13620072,  0.        ]])"
            ]
          },
          "metadata": {},
          "execution_count": 107
        }
      ]
    },
    {
      "cell_type": "code",
      "source": [
        "print(similarity_proportions)\n",
        "for i in range(len(similarity_proportions)):\n",
        "  for j in range(len(similarity_proportions)):\n",
        "    if i == j:\n",
        "      similarity_proportions[i][j] = 0.6\n",
        "    else:\n",
        "      similarity_proportions[i][j] = similarity_proportions[i][j] * 0.4\n",
        "\n",
        "reviews = reviews.with_column(\"similarity proportions\", similarity_proportions)\n",
        "reviews"
      ],
      "metadata": {
        "colab": {
          "base_uri": "https://localhost:8080/",
          "height": 720
        },
        "id": "qP1CZE7xSc1g",
        "outputId": "bb6a02fa-e54b-4d79-ecea-71bd6820a2cd"
      },
      "execution_count": null,
      "outputs": [
        {
          "output_type": "stream",
          "name": "stdout",
          "text": [
            "[[ 0.          0.13826367  0.11575563  0.07717042  0.11254019  0.09646302\n",
            "   0.08681672  0.14790997  0.1318328   0.09324759]\n",
            " [ 0.15194346  0.          0.1024735   0.10954064  0.14840989  0.08127208\n",
            "   0.07067138  0.13780919  0.12014134  0.07773852]\n",
            " [ 0.11650485  0.09385113  0.          0.03236246  0.06796117  0.14239482\n",
            "   0.13268608  0.12944984  0.14563107  0.13915858]\n",
            " [ 0.16326531  0.21088435  0.06802721  0.          0.26530612  0.02721088\n",
            "   0.00680272  0.13605442  0.10204082  0.02040816]\n",
            " [ 0.14893617  0.1787234   0.0893617   0.16595745  0.          0.06382979\n",
            "   0.05106383  0.13191489  0.1106383   0.05957447]\n",
            " [ 0.10526316  0.08070175  0.15438596  0.01403509  0.05263158  0.\n",
            "   0.16491228  0.11929825  0.13684211  0.17192982]\n",
            " [ 0.1026616   0.07604563  0.15589354  0.00380228  0.04562738  0.17870722\n",
            "   0.          0.11787072  0.13688213  0.18250951]\n",
            " [ 0.14420063  0.12225705  0.12539185  0.06269592  0.09717868  0.10658307\n",
            "   0.09717868  0.          0.14106583  0.10344828]\n",
            " [ 0.12852665  0.10658307  0.14106583  0.04702194  0.0815047   0.12225705\n",
            "   0.11285266  0.14106583  0.          0.11912226]\n",
            " [ 0.10394265  0.07885305  0.15412186  0.01075269  0.05017921  0.17562724\n",
            "   0.17204301  0.11827957  0.13620072  0.        ]]\n"
          ]
        },
        {
          "output_type": "execute_result",
          "data": {
            "text/plain": [
              "ratings | importance | random var | similarities                                        | similarity sum | similarity proportions\n",
              "5       | 3.96987    | 24         | [  0.  43.  36.  24.  35.  30.  27.  46.  41.  29.] | 311            | [ 0.6         0.05530547  0.04630225  0.03086817  0.0450 ...\n",
              "4       | 3.87379    | 31         | [ 43.   0.  29.  31.  42.  23.  20.  39.  34.  22.] | 283            | [ 0.06077739  0.6         0.0409894   0.04381625  0.0593 ...\n",
              "3       | 5.33924    | 10         | [ 36.  29.   0.  10.  21.  44.  41.  40.  45.  43.] | 309            | [ 0.04660194  0.03754045  0.6         0.01294498  0.0271 ...\n",
              "5       | 5.90307    | 50         | [ 24.  31.  10.   0.  39.   4.   1.  20.  15.   3.] | 147            | [ 0.06530612  0.08435374  0.02721088  0.6         0.1061 ...\n",
              "3       | 5.4191     | 39         | [ 35.  42.  21.  39.   0.  15.  12.  31.  26.  14.] | 235            | [ 0.05957447  0.07148936  0.03574468  0.06638298  0.6    ...\n",
              "4       | 5.31347    | 4          | [ 30.  23.  44.   4.  15.   0.  47.  34.  39.  49.] | 285            | [ 0.04210526  0.0322807   0.06175439  0.00561404  0.0210 ...\n",
              "2       | 2.26377    | 1          | [ 27.  20.  41.   1.  12.  47.   0.  31.  36.  48.] | 263            | [ 0.04106464  0.03041825  0.06235741  0.00152091  0.0182 ...\n",
              "1       | 5.17287    | 20         | [ 46.  39.  40.  20.  31.  34.  31.   0.  45.  33.] | 319            | [ 0.05768025  0.04890282  0.05015674  0.02507837  0.0388 ...\n",
              "5       | 9.60918    | 15         | [ 41.  34.  45.  15.  26.  39.  36.  45.   0.  38.] | 319            | [ 0.05141066  0.04263323  0.05642633  0.01880878  0.0326 ...\n",
              "3       | 6.05051    | 3          | [ 29.  22.  43.   3.  14.  49.  48.  33.  38.   0.] | 279            | [ 0.04157706  0.03154122  0.06164875  0.00430108  0.0200 ..."
            ],
            "text/html": [
              "<table border=\"1\" class=\"dataframe\">\n",
              "    <thead>\n",
              "        <tr>\n",
              "            <th>ratings</th> <th>importance</th> <th>random var</th> <th>similarities</th> <th>similarity sum</th> <th>similarity proportions</th>\n",
              "        </tr>\n",
              "    </thead>\n",
              "    <tbody>\n",
              "        <tr>\n",
              "            <td>5      </td> <td>3.96987   </td> <td>24        </td> <td>[  0.  43.  36.  24.  35.  30.  27.  46.  41.  29.]</td> <td>311           </td> <td>[ 0.6         0.05530547  0.04630225  0.03086817  0.0450 ...</td>\n",
              "        </tr>\n",
              "        <tr>\n",
              "            <td>4      </td> <td>3.87379   </td> <td>31        </td> <td>[ 43.   0.  29.  31.  42.  23.  20.  39.  34.  22.]</td> <td>283           </td> <td>[ 0.06077739  0.6         0.0409894   0.04381625  0.0593 ...</td>\n",
              "        </tr>\n",
              "        <tr>\n",
              "            <td>3      </td> <td>5.33924   </td> <td>10        </td> <td>[ 36.  29.   0.  10.  21.  44.  41.  40.  45.  43.]</td> <td>309           </td> <td>[ 0.04660194  0.03754045  0.6         0.01294498  0.0271 ...</td>\n",
              "        </tr>\n",
              "        <tr>\n",
              "            <td>5      </td> <td>5.90307   </td> <td>50        </td> <td>[ 24.  31.  10.   0.  39.   4.   1.  20.  15.   3.]</td> <td>147           </td> <td>[ 0.06530612  0.08435374  0.02721088  0.6         0.1061 ...</td>\n",
              "        </tr>\n",
              "        <tr>\n",
              "            <td>3      </td> <td>5.4191    </td> <td>39        </td> <td>[ 35.  42.  21.  39.   0.  15.  12.  31.  26.  14.]</td> <td>235           </td> <td>[ 0.05957447  0.07148936  0.03574468  0.06638298  0.6    ...</td>\n",
              "        </tr>\n",
              "        <tr>\n",
              "            <td>4      </td> <td>5.31347   </td> <td>4         </td> <td>[ 30.  23.  44.   4.  15.   0.  47.  34.  39.  49.]</td> <td>285           </td> <td>[ 0.04210526  0.0322807   0.06175439  0.00561404  0.0210 ...</td>\n",
              "        </tr>\n",
              "        <tr>\n",
              "            <td>2      </td> <td>2.26377   </td> <td>1         </td> <td>[ 27.  20.  41.   1.  12.  47.   0.  31.  36.  48.]</td> <td>263           </td> <td>[ 0.04106464  0.03041825  0.06235741  0.00152091  0.0182 ...</td>\n",
              "        </tr>\n",
              "        <tr>\n",
              "            <td>1      </td> <td>5.17287   </td> <td>20        </td> <td>[ 46.  39.  40.  20.  31.  34.  31.   0.  45.  33.]</td> <td>319           </td> <td>[ 0.05768025  0.04890282  0.05015674  0.02507837  0.0388 ...</td>\n",
              "        </tr>\n",
              "        <tr>\n",
              "            <td>5      </td> <td>9.60918   </td> <td>15        </td> <td>[ 41.  34.  45.  15.  26.  39.  36.  45.   0.  38.]</td> <td>319           </td> <td>[ 0.05141066  0.04263323  0.05642633  0.01880878  0.0326 ...</td>\n",
              "        </tr>\n",
              "        <tr>\n",
              "            <td>3      </td> <td>6.05051   </td> <td>3         </td> <td>[ 29.  22.  43.   3.  14.  49.  48.  33.  38.   0.]</td> <td>279           </td> <td>[ 0.04157706  0.03154122  0.06164875  0.00430108  0.0200 ...</td>\n",
              "        </tr>\n",
              "    </tbody>\n",
              "</table>"
            ]
          },
          "metadata": {},
          "execution_count": 108
        }
      ]
    },
    {
      "cell_type": "code",
      "source": [
        "matriixx = np.asmatrix(similarity_proportions)\n",
        "matriixx"
      ],
      "metadata": {
        "colab": {
          "base_uri": "https://localhost:8080/"
        },
        "id": "8TfFH2gvUJyL",
        "outputId": "0ec0eb0a-289e-494f-f203-95fdaa959f02"
      },
      "execution_count": null,
      "outputs": [
        {
          "output_type": "execute_result",
          "data": {
            "text/plain": [
              "matrix([[ 0.6       ,  0.05530547,  0.04630225,  0.03086817,  0.04501608,\n",
              "          0.03858521,  0.03472669,  0.05916399,  0.05273312,  0.03729904],\n",
              "        [ 0.06077739,  0.6       ,  0.0409894 ,  0.04381625,  0.05936396,\n",
              "          0.03250883,  0.02826855,  0.05512367,  0.04805654,  0.03109541],\n",
              "        [ 0.04660194,  0.03754045,  0.6       ,  0.01294498,  0.02718447,\n",
              "          0.05695793,  0.05307443,  0.05177994,  0.05825243,  0.05566343],\n",
              "        [ 0.06530612,  0.08435374,  0.02721088,  0.6       ,  0.10612245,\n",
              "          0.01088435,  0.00272109,  0.05442177,  0.04081633,  0.00816327],\n",
              "        [ 0.05957447,  0.07148936,  0.03574468,  0.06638298,  0.6       ,\n",
              "          0.02553191,  0.02042553,  0.05276596,  0.04425532,  0.02382979],\n",
              "        [ 0.04210526,  0.0322807 ,  0.06175439,  0.00561404,  0.02105263,\n",
              "          0.6       ,  0.06596491,  0.0477193 ,  0.05473684,  0.06877193],\n",
              "        [ 0.04106464,  0.03041825,  0.06235741,  0.00152091,  0.01825095,\n",
              "          0.07148289,  0.6       ,  0.04714829,  0.05475285,  0.0730038 ],\n",
              "        [ 0.05768025,  0.04890282,  0.05015674,  0.02507837,  0.03887147,\n",
              "          0.04263323,  0.03887147,  0.6       ,  0.05642633,  0.04137931],\n",
              "        [ 0.05141066,  0.04263323,  0.05642633,  0.01880878,  0.03260188,\n",
              "          0.04890282,  0.04514107,  0.05642633,  0.6       ,  0.0476489 ],\n",
              "        [ 0.04157706,  0.03154122,  0.06164875,  0.00430108,  0.02007168,\n",
              "          0.0702509 ,  0.0688172 ,  0.04731183,  0.05448029,  0.6       ]])"
            ]
          },
          "metadata": {},
          "execution_count": 109
        }
      ]
    },
    {
      "cell_type": "code",
      "source": [
        "x = np.linalg.matrix_power(matriixx, 50)\n",
        "x"
      ],
      "metadata": {
        "colab": {
          "base_uri": "https://localhost:8080/"
        },
        "id": "nkChJbJUVIOB",
        "outputId": "15966f10-6cd5-47c6-c652-72c4fae8a51b"
      },
      "execution_count": null,
      "outputs": [
        {
          "output_type": "execute_result",
          "data": {
            "text/plain": [
              "matrix([[ 0.10542798,  0.10960334,  0.06019485,  0.11656228,  0.11656228,\n",
              "          0.09986082,  0.11656228,  0.11238692,  0.08594294,  0.07689631],\n",
              "        [ 0.10542798,  0.10960334,  0.06019485,  0.11656228,  0.11656228,\n",
              "          0.09986082,  0.11656228,  0.11238692,  0.08594294,  0.07689631],\n",
              "        [ 0.10542797,  0.10960334,  0.06019485,  0.11656228,  0.11656228,\n",
              "          0.09986082,  0.11656228,  0.11238692,  0.08594294,  0.07689631],\n",
              "        [ 0.10542798,  0.10960334,  0.06019485,  0.11656228,  0.11656228,\n",
              "          0.09986082,  0.11656228,  0.11238692,  0.08594294,  0.07689631],\n",
              "        [ 0.10542797,  0.10960334,  0.06019485,  0.11656228,  0.11656228,\n",
              "          0.09986082,  0.11656228,  0.11238692,  0.08594294,  0.07689631],\n",
              "        [ 0.10542797,  0.10960334,  0.06019485,  0.11656228,  0.11656228,\n",
              "          0.09986082,  0.11656228,  0.11238692,  0.08594294,  0.07689631],\n",
              "        [ 0.10542797,  0.10960334,  0.06019485,  0.11656228,  0.11656228,\n",
              "          0.09986082,  0.11656228,  0.11238692,  0.08594294,  0.07689631],\n",
              "        [ 0.10542798,  0.10960334,  0.06019485,  0.11656228,  0.11656228,\n",
              "          0.09986082,  0.11656228,  0.11238692,  0.08594294,  0.07689631],\n",
              "        [ 0.10542798,  0.10960334,  0.06019485,  0.11656228,  0.11656228,\n",
              "          0.09986082,  0.11656228,  0.11238692,  0.08594294,  0.07689631],\n",
              "        [ 0.10542797,  0.10960334,  0.06019485,  0.11656228,  0.11656228,\n",
              "          0.09986082,  0.11656228,  0.11238692,  0.08594294,  0.07689631]])"
            ]
          },
          "metadata": {},
          "execution_count": 87
        }
      ]
    },
    {
      "cell_type": "code",
      "source": [
        "importance"
      ],
      "metadata": {
        "colab": {
          "base_uri": "https://localhost:8080/"
        },
        "id": "Z0zcSOaDXtuH",
        "outputId": "a552e0c5-b1e0-48b3-b9a2-5f2587bd8ebf"
      },
      "execution_count": null,
      "outputs": [
        {
          "output_type": "execute_result",
          "data": {
            "text/plain": [
              "array([ 3.96986765,  3.87379159,  5.33923876,  5.90306769,  5.4190989 ,\n",
              "        5.31346559,  2.26376782,  5.17286978,  9.60917524,  6.05050647])"
            ]
          },
          "metadata": {},
          "execution_count": 114
        }
      ]
    },
    {
      "cell_type": "code",
      "source": [
        "importance_prime = np.array(np.dot(importance, matriixx))\n",
        "for i in range(100):\n",
        "  importance_prime = np.array(np.dot(importance, matriixx))\n",
        "importance_prime\n",
        "  "
      ],
      "metadata": {
        "colab": {
          "base_uri": "https://localhost:8080/"
        },
        "id": "Ys6p9S60Vdhv",
        "outputId": "d81354de-1861-453e-9aba-e4d9e5b2f297"
      },
      "execution_count": null,
      "outputs": [
        {
          "output_type": "execute_result",
          "data": {
            "text/plain": [
              "array([[ 4.93515921,  4.72348224,  5.54443656,  4.63273112,  5.22069962,\n",
              "         5.25123909,  3.41748206,  5.62455613,  7.98910823,  5.57595525]])"
            ]
          },
          "metadata": {},
          "execution_count": 119
        }
      ]
    },
    {
      "cell_type": "code",
      "source": [
        "final_tbl = reviews.select(\"ratings\", \"importance\")\n",
        "final_tbl = final_tbl.with_column(\"steady importance\",importance_prime[0])\n",
        "final_tbl"
      ],
      "metadata": {
        "colab": {
          "base_uri": "https://localhost:8080/",
          "height": 363
        },
        "id": "hQtZ2K_hW8dm",
        "outputId": "c816d234-a1a5-442a-a9ff-309effeaa1f0"
      },
      "execution_count": null,
      "outputs": [
        {
          "output_type": "execute_result",
          "data": {
            "text/plain": [
              "ratings | importance | steady importance\n",
              "5       | 3.96987    | 4.93516\n",
              "4       | 3.87379    | 4.72348\n",
              "3       | 5.33924    | 5.54444\n",
              "5       | 5.90307    | 4.63273\n",
              "3       | 5.4191     | 5.2207\n",
              "4       | 5.31347    | 5.25124\n",
              "2       | 2.26377    | 3.41748\n",
              "1       | 5.17287    | 5.62456\n",
              "5       | 9.60918    | 7.98911\n",
              "3       | 6.05051    | 5.57596"
            ],
            "text/html": [
              "<table border=\"1\" class=\"dataframe\">\n",
              "    <thead>\n",
              "        <tr>\n",
              "            <th>ratings</th> <th>importance</th> <th>steady importance</th>\n",
              "        </tr>\n",
              "    </thead>\n",
              "    <tbody>\n",
              "        <tr>\n",
              "            <td>5      </td> <td>3.96987   </td> <td>4.93516          </td>\n",
              "        </tr>\n",
              "        <tr>\n",
              "            <td>4      </td> <td>3.87379   </td> <td>4.72348          </td>\n",
              "        </tr>\n",
              "        <tr>\n",
              "            <td>3      </td> <td>5.33924   </td> <td>5.54444          </td>\n",
              "        </tr>\n",
              "        <tr>\n",
              "            <td>5      </td> <td>5.90307   </td> <td>4.63273          </td>\n",
              "        </tr>\n",
              "        <tr>\n",
              "            <td>3      </td> <td>5.4191    </td> <td>5.2207           </td>\n",
              "        </tr>\n",
              "        <tr>\n",
              "            <td>4      </td> <td>5.31347   </td> <td>5.25124          </td>\n",
              "        </tr>\n",
              "        <tr>\n",
              "            <td>2      </td> <td>2.26377   </td> <td>3.41748          </td>\n",
              "        </tr>\n",
              "        <tr>\n",
              "            <td>1      </td> <td>5.17287   </td> <td>5.62456          </td>\n",
              "        </tr>\n",
              "        <tr>\n",
              "            <td>5      </td> <td>9.60918   </td> <td>7.98911          </td>\n",
              "        </tr>\n",
              "        <tr>\n",
              "            <td>3      </td> <td>6.05051   </td> <td>5.57596          </td>\n",
              "        </tr>\n",
              "    </tbody>\n",
              "</table>"
            ]
          },
          "metadata": {},
          "execution_count": 125
        }
      ]
    },
    {
      "cell_type": "code",
      "source": [
        "total_importance = sum(final_tbl.column(\"steady importance\"))\n",
        "proportional_importance = final_tbl.column(\"steady importance\") / total_importance\n",
        "proportional_importance\n",
        "final_tbl = final_tbl.with_column(\"proportional importance\", proportional_importance)\n",
        "final_tbl\n",
        "cool_average = sum(final_tbl.column(\"ratings\") * final_tbl.column(\"proportional importance\"))\n",
        "cool_average"
      ],
      "metadata": {
        "colab": {
          "base_uri": "https://localhost:8080/"
        },
        "id": "HXh2VZMBZk5a",
        "outputId": "ea7bdba8-5f31-46f2-831a-38442c9346ca"
      },
      "execution_count": null,
      "outputs": [
        {
          "output_type": "execute_result",
          "data": {
            "text/plain": [
              "3.5749260257522764"
            ]
          },
          "metadata": {},
          "execution_count": 132
        }
      ]
    },
    {
      "cell_type": "code",
      "source": [
        "vanilla_average_rating = np.mean(final_tbl.column(\"ratings\"))\n",
        "vanilla_average_rating"
      ],
      "metadata": {
        "colab": {
          "base_uri": "https://localhost:8080/"
        },
        "id": "ogLxaRM4aKtj",
        "outputId": "b5c99a8e-636a-43ca-a73d-825930062c33"
      },
      "execution_count": null,
      "outputs": [
        {
          "output_type": "execute_result",
          "data": {
            "text/plain": [
              "3.5"
            ]
          },
          "metadata": {},
          "execution_count": 129
        }
      ]
    },
    {
      "cell_type": "code",
      "source": [],
      "metadata": {
        "id": "S5aI6CEzalJs"
      },
      "execution_count": null,
      "outputs": []
    }
  ]
}